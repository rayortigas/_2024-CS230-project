{
 "cells": [
  {
   "cell_type": "code",
   "execution_count": 1,
   "id": "63f271e7-6fea-4609-93bc-9528ca718965",
   "metadata": {},
   "outputs": [],
   "source": [
    "from datasets import load_dataset"
   ]
  },
  {
   "cell_type": "code",
   "execution_count": 19,
   "id": "d2fb0b89-4981-4343-8f60-f697bc076076",
   "metadata": {},
   "outputs": [],
   "source": [
    "from datasets import concatenate_datasets"
   ]
  },
  {
   "cell_type": "code",
   "execution_count": 2,
   "id": "13473f71-94ee-4ec7-a459-4312ac63e29d",
   "metadata": {},
   "outputs": [],
   "source": [
    "import datasets"
   ]
  },
  {
   "cell_type": "code",
   "execution_count": null,
   "id": "39e66f25-7542-4536-a612-6e6637db32e3",
   "metadata": {},
   "outputs": [],
   "source": []
  },
  {
   "cell_type": "code",
   "execution_count": 25,
   "id": "33098127-d287-484b-b476-a07462578ffd",
   "metadata": {},
   "outputs": [],
   "source": [
    "pair_ds = load_dataset(\"sentence-transformers/all-nli\", \"pair\")"
   ]
  },
  {
   "cell_type": "code",
   "execution_count": 26,
   "id": "b672a47f-650c-4ce3-99ee-ae5c502e312b",
   "metadata": {},
   "outputs": [],
   "source": [
    "pair_score_ds = load_dataset(\"sentence-transformers/all-nli\", \"pair-score\")"
   ]
  },
  {
   "cell_type": "code",
   "execution_count": null,
   "id": "33389bf5-fb9b-4bc5-bd7d-693ab225c35c",
   "metadata": {},
   "outputs": [],
   "source": []
  },
  {
   "cell_type": "code",
   "execution_count": 28,
   "id": "c6e37dad-5ff3-40a8-8924-7e958de53d58",
   "metadata": {},
   "outputs": [],
   "source": [
    "def prepare_nli_data(split):\n",
    "    text_1_ds = pair_ds[split].select_columns(\"anchor\").rename_column(\"anchor\", \"text\")\n",
    "    text_2_ds = pair_score_ds[split].select_columns(\"sentence2\").rename_column(\"sentence2\", \"text\")\n",
    "    text_ds = concatenate_datasets([text_1_ds, text_2_ds])\n",
    "    text_ds.to_csv(f\"nli-text/{split}.csv\")"
   ]
  },
  {
   "cell_type": "code",
   "execution_count": 29,
   "id": "131e0178-1726-437b-9b7f-b2d0ce05137d",
   "metadata": {},
   "outputs": [
    {
     "data": {
      "application/vnd.jupyter.widget-view+json": {
       "model_id": "698f490a5cf94f7ab974d313ab2136bd",
       "version_major": 2,
       "version_minor": 0
      },
      "text/plain": [
       "Creating CSV from Arrow format:   0%|          | 0/1257 [00:00<?, ?ba/s]"
      ]
     },
     "metadata": {},
     "output_type": "display_data"
    }
   ],
   "source": [
    "prepare_nli_data(\"train\")"
   ]
  },
  {
   "cell_type": "code",
   "execution_count": 30,
   "id": "4a0acc24-bf02-4a82-b9a5-8a73c41dc56e",
   "metadata": {},
   "outputs": [
    {
     "data": {
      "application/vnd.jupyter.widget-view+json": {
       "model_id": "1d9723d849cd4cc185b1b96fa166f0b4",
       "version_major": 2,
       "version_minor": 0
      },
      "text/plain": [
       "Creating CSV from Arrow format:   0%|          | 0/27 [00:00<?, ?ba/s]"
      ]
     },
     "metadata": {},
     "output_type": "display_data"
    }
   ],
   "source": [
    "prepare_nli_data(\"dev\")"
   ]
  },
  {
   "cell_type": "code",
   "execution_count": null,
   "id": "58d42484-629f-49e5-a0c1-c68d35ca8617",
   "metadata": {},
   "outputs": [],
   "source": []
  }
 ],
 "metadata": {
  "kernelspec": {
   "display_name": "Python 3 (ipykernel)",
   "language": "python",
   "name": "python3"
  },
  "language_info": {
   "codemirror_mode": {
    "name": "ipython",
    "version": 3
   },
   "file_extension": ".py",
   "mimetype": "text/x-python",
   "name": "python",
   "nbconvert_exporter": "python",
   "pygments_lexer": "ipython3",
   "version": "3.10.15"
  }
 },
 "nbformat": 4,
 "nbformat_minor": 5
}
