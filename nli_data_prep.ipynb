{
 "cells": [
  {
   "cell_type": "code",
   "execution_count": 1,
   "id": "63f271e7-6fea-4609-93bc-9528ca718965",
   "metadata": {},
   "outputs": [],
   "source": [
    "from datasets import load_dataset"
   ]
  },
  {
   "cell_type": "code",
   "execution_count": 19,
   "id": "d2fb0b89-4981-4343-8f60-f697bc076076",
   "metadata": {},
   "outputs": [],
   "source": [
    "from datasets import concatenate_datasets"
   ]
  },
  {
   "cell_type": "code",
   "execution_count": 2,
   "id": "13473f71-94ee-4ec7-a459-4312ac63e29d",
   "metadata": {},
   "outputs": [],
   "source": [
    "import datasets"
   ]
  },
  {
   "cell_type": "code",
   "execution_count": null,
   "id": "39e66f25-7542-4536-a612-6e6637db32e3",
   "metadata": {},
   "outputs": [],
   "source": []
  },
  {
   "cell_type": "code",
   "execution_count": 3,
   "id": "84203afe-c5c0-4edf-a4c2-d6d400555f90",
   "metadata": {},
   "outputs": [
    {
     "data": {
      "application/vnd.jupyter.widget-view+json": {
       "model_id": "c567d08b4cc94129bfff2d88014d26ea",
       "version_major": 2,
       "version_minor": 0
      },
      "text/plain": [
       "train-00000-of-00001.parquet:   0%|          | 0.00/26.2M [00:00<?, ?B/s]"
      ]
     },
     "metadata": {},
     "output_type": "display_data"
    },
    {
     "data": {
      "application/vnd.jupyter.widget-view+json": {
       "model_id": "a7726a5197314b72ac780523ee41433c",
       "version_major": 2,
       "version_minor": 0
      },
      "text/plain": [
       "dev-00000-of-00001.parquet:   0%|          | 0.00/645k [00:00<?, ?B/s]"
      ]
     },
     "metadata": {},
     "output_type": "display_data"
    },
    {
     "data": {
      "application/vnd.jupyter.widget-view+json": {
       "model_id": "6e2f7da107114775840613271c0fcc03",
       "version_major": 2,
       "version_minor": 0
      },
      "text/plain": [
       "test-00000-of-00001.parquet:   0%|          | 0.00/666k [00:00<?, ?B/s]"
      ]
     },
     "metadata": {},
     "output_type": "display_data"
    },
    {
     "data": {
      "application/vnd.jupyter.widget-view+json": {
       "model_id": "5c2255cd53af460ba1373f7a775a7302",
       "version_major": 2,
       "version_minor": 0
      },
      "text/plain": [
       "Generating train split:   0%|          | 0/314315 [00:00<?, ? examples/s]"
      ]
     },
     "metadata": {},
     "output_type": "display_data"
    },
    {
     "data": {
      "application/vnd.jupyter.widget-view+json": {
       "model_id": "dc99ec6bf84a4ac1af512287ab4ca94e",
       "version_major": 2,
       "version_minor": 0
      },
      "text/plain": [
       "Generating dev split:   0%|          | 0/6808 [00:00<?, ? examples/s]"
      ]
     },
     "metadata": {},
     "output_type": "display_data"
    },
    {
     "data": {
      "application/vnd.jupyter.widget-view+json": {
       "model_id": "60308864a6504e44802ac1e85e5f03eb",
       "version_major": 2,
       "version_minor": 0
      },
      "text/plain": [
       "Generating test split:   0%|          | 0/6831 [00:00<?, ? examples/s]"
      ]
     },
     "metadata": {},
     "output_type": "display_data"
    }
   ],
   "source": [
    "pair_ds = load_dataset(\"sentence-transformers/all-nli\", \"pair\")"
   ]
  },
  {
   "cell_type": "code",
   "execution_count": 15,
   "id": "130768a5-7000-4072-84c3-b0d1c5f0a407",
   "metadata": {},
   "outputs": [],
   "source": [
    "text_1_ds = pair_ds[\"train\"].select_columns(\"anchor\").rename_column(\"anchor\", \"text\")"
   ]
  },
  {
   "cell_type": "code",
   "execution_count": 16,
   "id": "e773a11b-bdee-4eaf-ae2a-88de7e79ce02",
   "metadata": {},
   "outputs": [
    {
     "data": {
      "text/plain": [
       "Dataset({\n",
       "    features: ['text'],\n",
       "    num_rows: 314315\n",
       "})"
      ]
     },
     "execution_count": 16,
     "metadata": {},
     "output_type": "execute_result"
    }
   ],
   "source": [
    "text_1_ds"
   ]
  },
  {
   "cell_type": "code",
   "execution_count": null,
   "id": "eafb3c7c-4e6d-4c8f-a7c3-b8b90df8c1f4",
   "metadata": {},
   "outputs": [],
   "source": []
  },
  {
   "cell_type": "code",
   "execution_count": 7,
   "id": "79f5e9bf-7e4e-4342-9ce1-e6add78f9fa6",
   "metadata": {},
   "outputs": [],
   "source": [
    "pair_score_ds = load_dataset(\"sentence-transformers/all-nli\", \"pair-score\")"
   ]
  },
  {
   "cell_type": "code",
   "execution_count": 17,
   "id": "3dc89122-a73f-46ca-a59e-858b69bf42ce",
   "metadata": {},
   "outputs": [],
   "source": [
    "text_2_ds = pair_score_ds[\"train\"].select_columns(\"sentence2\").rename_column(\"sentence2\", \"text\")"
   ]
  },
  {
   "cell_type": "code",
   "execution_count": 18,
   "id": "a802ebe9-ff72-4e59-8077-0e3d74d1e6a6",
   "metadata": {},
   "outputs": [
    {
     "data": {
      "text/plain": [
       "Dataset({\n",
       "    features: ['text'],\n",
       "    num_rows: 942069\n",
       "})"
      ]
     },
     "execution_count": 18,
     "metadata": {},
     "output_type": "execute_result"
    }
   ],
   "source": [
    "text_2_ds"
   ]
  },
  {
   "cell_type": "code",
   "execution_count": null,
   "id": "45c4500b-7485-4c38-9283-070eaeb5e45f",
   "metadata": {},
   "outputs": [],
   "source": []
  },
  {
   "cell_type": "code",
   "execution_count": 20,
   "id": "93978213-abc4-4d26-a198-3fbc05afc49d",
   "metadata": {},
   "outputs": [],
   "source": [
    "text_ds = concatenate_datasets([text_1_ds, text_2_ds])"
   ]
  },
  {
   "cell_type": "code",
   "execution_count": 21,
   "id": "929f69a7-e11a-4be0-b77f-71c0addf757b",
   "metadata": {},
   "outputs": [
    {
     "data": {
      "text/plain": [
       "Dataset({\n",
       "    features: ['text'],\n",
       "    num_rows: 1256384\n",
       "})"
      ]
     },
     "execution_count": 21,
     "metadata": {},
     "output_type": "execute_result"
    }
   ],
   "source": [
    "text_ds"
   ]
  },
  {
   "cell_type": "code",
   "execution_count": null,
   "id": "b2580502-48fa-4338-9f23-55ba450f37c7",
   "metadata": {},
   "outputs": [],
   "source": []
  },
  {
   "cell_type": "code",
   "execution_count": 22,
   "id": "e4b19cc6-bfd5-4df5-ac4c-055aba2955a0",
   "metadata": {},
   "outputs": [
    {
     "data": {
      "application/vnd.jupyter.widget-view+json": {
       "model_id": "066cc9c8c955426d84a04004c9ce5e06",
       "version_major": 2,
       "version_minor": 0
      },
      "text/plain": [
       "Saving the dataset (0/1 shards):   0%|          | 0/1256384 [00:00<?, ? examples/s]"
      ]
     },
     "metadata": {},
     "output_type": "display_data"
    }
   ],
   "source": [
    "text_ds.save_to_disk(\"nli-text\")"
   ]
  },
  {
   "cell_type": "code",
   "execution_count": null,
   "id": "3b30bf60-f928-4108-bbaf-b35b0ecd045e",
   "metadata": {},
   "outputs": [],
   "source": []
  },
  {
   "cell_type": "code",
   "execution_count": 23,
   "id": "6e1a7e5c-f6f7-43e9-a2c4-059dc701da1d",
   "metadata": {},
   "outputs": [],
   "source": [
    "text_ds = datasets.Dataset.load_from_disk(\"nli-text\")"
   ]
  },
  {
   "cell_type": "code",
   "execution_count": 24,
   "id": "c93a53e4-8321-4816-ba91-9ba4cfcc32dc",
   "metadata": {},
   "outputs": [
    {
     "data": {
      "text/plain": [
       "Dataset({\n",
       "    features: ['text'],\n",
       "    num_rows: 1256384\n",
       "})"
      ]
     },
     "execution_count": 24,
     "metadata": {},
     "output_type": "execute_result"
    }
   ],
   "source": [
    "text_ds"
   ]
  },
  {
   "cell_type": "code",
   "execution_count": null,
   "id": "78db95b4-9b9a-4b14-b154-edaecd0adf94",
   "metadata": {},
   "outputs": [],
   "source": []
  }
 ],
 "metadata": {
  "kernelspec": {
   "display_name": "Python 3 (ipykernel)",
   "language": "python",
   "name": "python3"
  },
  "language_info": {
   "codemirror_mode": {
    "name": "ipython",
    "version": 3
   },
   "file_extension": ".py",
   "mimetype": "text/x-python",
   "name": "python",
   "nbconvert_exporter": "python",
   "pygments_lexer": "ipython3",
   "version": "3.10.15"
  }
 },
 "nbformat": 4,
 "nbformat_minor": 5
}
