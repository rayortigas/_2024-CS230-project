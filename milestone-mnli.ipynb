{
 "cells": [
  {
   "cell_type": "code",
   "execution_count": 1,
   "id": "c13d3df4-841f-44fc-9a78-940aa31c9a43",
   "metadata": {},
   "outputs": [],
   "source": [
    "from transformers import AutoTokenizer, DataCollatorWithPadding"
   ]
  },
  {
   "cell_type": "code",
   "execution_count": 2,
   "id": "5c652afd-142b-498f-9eb2-2e78e37ac5a2",
   "metadata": {},
   "outputs": [],
   "source": [
    "from datasets import load_dataset"
   ]
  },
  {
   "cell_type": "code",
   "execution_count": 3,
   "id": "12933bb9-84a9-485d-a371-82436f521501",
   "metadata": {},
   "outputs": [],
   "source": [
    "import torch"
   ]
  },
  {
   "cell_type": "code",
   "execution_count": 4,
   "id": "c5981a74-7291-4d1d-9384-d359495b9820",
   "metadata": {},
   "outputs": [],
   "source": [
    "import numpy as np"
   ]
  },
  {
   "cell_type": "code",
   "execution_count": 5,
   "id": "ce329826-2b6f-4273-b2e2-0fadcd47c40c",
   "metadata": {},
   "outputs": [],
   "source": [
    "from typing import Dict, List"
   ]
  },
  {
   "cell_type": "code",
   "execution_count": 6,
   "id": "02763ae4-715a-4ea5-95a4-08da87e91a35",
   "metadata": {},
   "outputs": [],
   "source": [
    "from tqdm.notebook import tqdm"
   ]
  },
  {
   "cell_type": "code",
   "execution_count": 7,
   "id": "dac07d8c-a261-4c40-890f-0f99a776d993",
   "metadata": {},
   "outputs": [],
   "source": [
    "import evaluate"
   ]
  },
  {
   "cell_type": "code",
   "execution_count": 8,
   "id": "691ee760-d05c-4ace-8c18-81090e6b14ee",
   "metadata": {},
   "outputs": [],
   "source": [
    "from torch import nn"
   ]
  },
  {
   "cell_type": "code",
   "execution_count": null,
   "id": "ed18c49a-7422-47f1-8f15-07675984b051",
   "metadata": {},
   "outputs": [],
   "source": []
  },
  {
   "cell_type": "code",
   "execution_count": 9,
   "id": "e544ab6c-77cc-4c26-a2e9-25be47374d0b",
   "metadata": {},
   "outputs": [],
   "source": [
    "from transformers import AutoModelForSequenceClassification, TrainingArguments, Trainer"
   ]
  },
  {
   "cell_type": "code",
   "execution_count": 10,
   "id": "49b1a3ed-ba04-489b-93d4-6684ea379a07",
   "metadata": {},
   "outputs": [],
   "source": [
    "from torch.utils.data import DataLoader"
   ]
  },
  {
   "cell_type": "code",
   "execution_count": null,
   "id": "7b0d53d1-b0bb-459f-a700-6b8275b746fc",
   "metadata": {},
   "outputs": [],
   "source": []
  },
  {
   "cell_type": "code",
   "execution_count": 11,
   "id": "2665ca99-3b79-4043-85a5-c32aa8b5d44e",
   "metadata": {},
   "outputs": [
    {
     "data": {
      "application/vnd.jupyter.widget-view+json": {
       "model_id": "547e6c3032104266a1072e8c140ad4c1",
       "version_major": 2,
       "version_minor": 0
      },
      "text/plain": [
       "README.md:   0%|          | 0.00/8.89k [00:00<?, ?B/s]"
      ]
     },
     "metadata": {},
     "output_type": "display_data"
    },
    {
     "data": {
      "application/vnd.jupyter.widget-view+json": {
       "model_id": "e6792ff1ae07421e942d2b5bce90a02b",
       "version_major": 2,
       "version_minor": 0
      },
      "text/plain": [
       "train-00000-of-00001.parquet:   0%|          | 0.00/214M [00:00<?, ?B/s]"
      ]
     },
     "metadata": {},
     "output_type": "display_data"
    },
    {
     "data": {
      "application/vnd.jupyter.widget-view+json": {
       "model_id": "ec634792e0244269834e1690a9c6f257",
       "version_major": 2,
       "version_minor": 0
      },
      "text/plain": [
       "(…)alidation_matched-00000-of-00001.parquet:   0%|          | 0.00/4.94M [00:00<?, ?B/s]"
      ]
     },
     "metadata": {},
     "output_type": "display_data"
    },
    {
     "data": {
      "application/vnd.jupyter.widget-view+json": {
       "model_id": "ade190e8f2e04b4e81f8c5714c322b45",
       "version_major": 2,
       "version_minor": 0
      },
      "text/plain": [
       "(…)dation_mismatched-00000-of-00001.parquet:   0%|          | 0.00/5.10M [00:00<?, ?B/s]"
      ]
     },
     "metadata": {},
     "output_type": "display_data"
    },
    {
     "data": {
      "application/vnd.jupyter.widget-view+json": {
       "model_id": "d91e158119194e6aae967ebf3d137599",
       "version_major": 2,
       "version_minor": 0
      },
      "text/plain": [
       "Generating train split:   0%|          | 0/392702 [00:00<?, ? examples/s]"
      ]
     },
     "metadata": {},
     "output_type": "display_data"
    },
    {
     "data": {
      "application/vnd.jupyter.widget-view+json": {
       "model_id": "d2c279789738490084c5fe9afe0fa378",
       "version_major": 2,
       "version_minor": 0
      },
      "text/plain": [
       "Generating validation_matched split:   0%|          | 0/9815 [00:00<?, ? examples/s]"
      ]
     },
     "metadata": {},
     "output_type": "display_data"
    },
    {
     "data": {
      "application/vnd.jupyter.widget-view+json": {
       "model_id": "02b7653640614bc3b4278fc3180caf51",
       "version_major": 2,
       "version_minor": 0
      },
      "text/plain": [
       "Generating validation_mismatched split:   0%|          | 0/9832 [00:00<?, ? examples/s]"
      ]
     },
     "metadata": {},
     "output_type": "display_data"
    }
   ],
   "source": [
    "mnli = load_dataset(\n",
    "    \"nyu-mll/multi_nli\"\n",
    ").select_columns(\n",
    "    [\"premise\", \"hypothesis\", \"label\"]\n",
    ")"
   ]
  },
  {
   "cell_type": "code",
   "execution_count": 12,
   "id": "05f17e9d-87e2-45f2-8822-4221fb7ba594",
   "metadata": {},
   "outputs": [
    {
     "data": {
      "text/plain": [
       "Dataset({\n",
       "    features: ['premise', 'hypothesis', 'label'],\n",
       "    num_rows: 392702\n",
       "})"
      ]
     },
     "execution_count": 12,
     "metadata": {},
     "output_type": "execute_result"
    }
   ],
   "source": [
    "mnli[\"train\"]"
   ]
  },
  {
   "cell_type": "code",
   "execution_count": 13,
   "id": "1f07a109-c845-499c-8a37-944674bd57dc",
   "metadata": {},
   "outputs": [
    {
     "data": {
      "text/plain": [
       "Dataset({\n",
       "    features: ['premise', 'hypothesis', 'label'],\n",
       "    num_rows: 9815\n",
       "})"
      ]
     },
     "execution_count": 13,
     "metadata": {},
     "output_type": "execute_result"
    }
   ],
   "source": [
    "mnli[\"validation_matched\"]"
   ]
  },
  {
   "cell_type": "code",
   "execution_count": 14,
   "id": "72343472-ba18-4bf5-b73a-41d48cc602cc",
   "metadata": {},
   "outputs": [
    {
     "data": {
      "text/plain": [
       "Dataset({\n",
       "    features: ['premise', 'hypothesis', 'label'],\n",
       "    num_rows: 9832\n",
       "})"
      ]
     },
     "execution_count": 14,
     "metadata": {},
     "output_type": "execute_result"
    }
   ],
   "source": [
    "mnli[\"validation_mismatched\"]"
   ]
  },
  {
   "cell_type": "code",
   "execution_count": 15,
   "id": "e8296f9b-3e2b-4b60-b39c-9109ecc7ca01",
   "metadata": {},
   "outputs": [],
   "source": [
    "tokenizer = AutoTokenizer.from_pretrained(\"google/mobilebert-uncased\")"
   ]
  },
  {
   "cell_type": "code",
   "execution_count": null,
   "id": "a1471596-5a79-407b-a5ca-6436fa4368b6",
   "metadata": {},
   "outputs": [],
   "source": []
  },
  {
   "cell_type": "code",
   "execution_count": 27,
   "id": "54a1bcf1-14d2-44cc-afb6-a6a029744da6",
   "metadata": {},
   "outputs": [],
   "source": [
    "def tokenize(batch: Dict[str, List]):\n",
    "    return tokenizer(text=batch[\"premise\"], text_pair=batch[\"hypothesis\"], truncation=True, max_length=512)"
   ]
  },
  {
   "cell_type": "code",
   "execution_count": 28,
   "id": "84bf1317-4b72-4cd3-9ad7-b3bddd20393e",
   "metadata": {},
   "outputs": [
    {
     "data": {
      "application/vnd.jupyter.widget-view+json": {
       "model_id": "1928de6f3317447e8ad46c16df83e6c7",
       "version_major": 2,
       "version_minor": 0
      },
      "text/plain": [
       "Map:   0%|          | 0/392702 [00:00<?, ? examples/s]"
      ]
     },
     "metadata": {},
     "output_type": "display_data"
    },
    {
     "data": {
      "application/vnd.jupyter.widget-view+json": {
       "model_id": "fba1aa2b24b64104981841427532da91",
       "version_major": 2,
       "version_minor": 0
      },
      "text/plain": [
       "Map:   0%|          | 0/9815 [00:00<?, ? examples/s]"
      ]
     },
     "metadata": {},
     "output_type": "display_data"
    },
    {
     "data": {
      "application/vnd.jupyter.widget-view+json": {
       "model_id": "a2a21c20ba424681adaad6b2b678f4b3",
       "version_major": 2,
       "version_minor": 0
      },
      "text/plain": [
       "Map:   0%|          | 0/9832 [00:00<?, ? examples/s]"
      ]
     },
     "metadata": {},
     "output_type": "display_data"
    }
   ],
   "source": [
    "tokenized_mnli = mnli.map(tokenize, batched=True)"
   ]
  },
  {
   "cell_type": "code",
   "execution_count": null,
   "id": "06cd4fb1-12c0-4b37-87f6-5da21cc09022",
   "metadata": {},
   "outputs": [],
   "source": []
  },
  {
   "cell_type": "code",
   "execution_count": 29,
   "id": "5bbde77b-f436-48fd-8132-8ff947f33b87",
   "metadata": {},
   "outputs": [],
   "source": [
    "data_collator = DataCollatorWithPadding(tokenizer=tokenizer)"
   ]
  },
  {
   "cell_type": "code",
   "execution_count": null,
   "id": "b1a071c6-0b28-44e5-8fc7-5e97c842fc4a",
   "metadata": {},
   "outputs": [],
   "source": []
  },
  {
   "cell_type": "code",
   "execution_count": 19,
   "id": "907c634b-fe41-4bba-8774-781618023f2d",
   "metadata": {},
   "outputs": [],
   "source": [
    "accuracy = evaluate.load(\"accuracy\")"
   ]
  },
  {
   "cell_type": "code",
   "execution_count": 30,
   "id": "fada22b0-b826-4720-9a94-de697da9aa51",
   "metadata": {},
   "outputs": [],
   "source": [
    "def compute_metrics(eval_prediction):\n",
    "    predictions, labels = eval_prediction\n",
    "    return accuracy.compute(\n",
    "        predictions=np.argmax(predictions, axis=1),\n",
    "        references=labels,\n",
    "    )"
   ]
  },
  {
   "cell_type": "code",
   "execution_count": null,
   "id": "2de85b6e-eb15-47e7-880b-ba39698a1166",
   "metadata": {},
   "outputs": [],
   "source": []
  },
  {
   "cell_type": "code",
   "execution_count": 21,
   "id": "8dbff19c-5f19-4db5-b4c2-f01a132eaf3b",
   "metadata": {},
   "outputs": [
    {
     "name": "stderr",
     "output_type": "stream",
     "text": [
      "Some weights of MobileBertForSequenceClassification were not initialized from the model checkpoint at google/mobilebert-uncased and are newly initialized: ['classifier.bias', 'classifier.weight']\n",
      "You should probably TRAIN this model on a down-stream task to be able to use it for predictions and inference.\n"
     ]
    }
   ],
   "source": [
    "model = AutoModelForSequenceClassification.from_pretrained(\n",
    "    \"google/mobilebert-uncased\",\n",
    "    num_labels=3,\n",
    ")"
   ]
  },
  {
   "cell_type": "code",
   "execution_count": 22,
   "id": "a6c5159e-b289-4f20-9674-449317135a7c",
   "metadata": {},
   "outputs": [
    {
     "data": {
      "text/plain": [
       "MobileBertForSequenceClassification(\n",
       "  (mobilebert): MobileBertModel(\n",
       "    (embeddings): MobileBertEmbeddings(\n",
       "      (word_embeddings): Embedding(30522, 128, padding_idx=0)\n",
       "      (position_embeddings): Embedding(512, 512)\n",
       "      (token_type_embeddings): Embedding(2, 512)\n",
       "      (embedding_transformation): Linear(in_features=384, out_features=512, bias=True)\n",
       "      (LayerNorm): NoNorm()\n",
       "      (dropout): Dropout(p=0.0, inplace=False)\n",
       "    )\n",
       "    (encoder): MobileBertEncoder(\n",
       "      (layer): ModuleList(\n",
       "        (0-23): 24 x MobileBertLayer(\n",
       "          (attention): MobileBertAttention(\n",
       "            (self): MobileBertSelfAttention(\n",
       "              (query): Linear(in_features=128, out_features=128, bias=True)\n",
       "              (key): Linear(in_features=128, out_features=128, bias=True)\n",
       "              (value): Linear(in_features=512, out_features=128, bias=True)\n",
       "              (dropout): Dropout(p=0.1, inplace=False)\n",
       "            )\n",
       "            (output): MobileBertSelfOutput(\n",
       "              (dense): Linear(in_features=128, out_features=128, bias=True)\n",
       "              (LayerNorm): NoNorm()\n",
       "            )\n",
       "          )\n",
       "          (intermediate): MobileBertIntermediate(\n",
       "            (dense): Linear(in_features=128, out_features=512, bias=True)\n",
       "            (intermediate_act_fn): ReLU()\n",
       "          )\n",
       "          (output): MobileBertOutput(\n",
       "            (dense): Linear(in_features=512, out_features=128, bias=True)\n",
       "            (LayerNorm): NoNorm()\n",
       "            (bottleneck): OutputBottleneck(\n",
       "              (dense): Linear(in_features=128, out_features=512, bias=True)\n",
       "              (LayerNorm): NoNorm()\n",
       "              (dropout): Dropout(p=0.0, inplace=False)\n",
       "            )\n",
       "          )\n",
       "          (bottleneck): Bottleneck(\n",
       "            (input): BottleneckLayer(\n",
       "              (dense): Linear(in_features=512, out_features=128, bias=True)\n",
       "              (LayerNorm): NoNorm()\n",
       "            )\n",
       "            (attention): BottleneckLayer(\n",
       "              (dense): Linear(in_features=512, out_features=128, bias=True)\n",
       "              (LayerNorm): NoNorm()\n",
       "            )\n",
       "          )\n",
       "          (ffn): ModuleList(\n",
       "            (0-2): 3 x FFNLayer(\n",
       "              (intermediate): MobileBertIntermediate(\n",
       "                (dense): Linear(in_features=128, out_features=512, bias=True)\n",
       "                (intermediate_act_fn): ReLU()\n",
       "              )\n",
       "              (output): FFNOutput(\n",
       "                (dense): Linear(in_features=512, out_features=128, bias=True)\n",
       "                (LayerNorm): NoNorm()\n",
       "              )\n",
       "            )\n",
       "          )\n",
       "        )\n",
       "      )\n",
       "    )\n",
       "    (pooler): MobileBertPooler()\n",
       "  )\n",
       "  (dropout): Dropout(p=0.0, inplace=False)\n",
       "  (classifier): Linear(in_features=512, out_features=3, bias=True)\n",
       ")"
      ]
     },
     "execution_count": 22,
     "metadata": {},
     "output_type": "execute_result"
    }
   ],
   "source": [
    "model"
   ]
  },
  {
   "cell_type": "code",
   "execution_count": null,
   "id": "736479ad-117b-47dd-ad9a-4832ef5895d4",
   "metadata": {},
   "outputs": [],
   "source": []
  },
  {
   "cell_type": "code",
   "execution_count": 23,
   "id": "9db473a4-b09f-40b8-ab6f-ae3fbcaf64d8",
   "metadata": {},
   "outputs": [
    {
     "name": "stderr",
     "output_type": "stream",
     "text": [
      "huggingface/tokenizers: The current process just got forked, after parallelism has already been used. Disabling parallelism to avoid deadlocks...\n",
      "To disable this warning, you can either:\n",
      "\t- Avoid using `tokenizers` before the fork if possible\n",
      "\t- Explicitly set the environment variable TOKENIZERS_PARALLELISM=(true | false)\n",
      "huggingface/tokenizers: The current process just got forked, after parallelism has already been used. Disabling parallelism to avoid deadlocks...\n",
      "To disable this warning, you can either:\n",
      "\t- Avoid using `tokenizers` before the fork if possible\n",
      "\t- Explicitly set the environment variable TOKENIZERS_PARALLELISM=(true | false)\n"
     ]
    },
    {
     "data": {
      "text/plain": [
       "device(type='cuda', index=0)"
      ]
     },
     "execution_count": 23,
     "metadata": {},
     "output_type": "execute_result"
    }
   ],
   "source": [
    "model = model.to(\"cuda\")\n",
    "model.device"
   ]
  },
  {
   "cell_type": "code",
   "execution_count": null,
   "id": "0d4f3f86-98ff-4893-825b-d96d33a0aacb",
   "metadata": {},
   "outputs": [],
   "source": []
  },
  {
   "cell_type": "code",
   "execution_count": 24,
   "id": "99304742-fadb-447c-90b7-d464cb2aaeae",
   "metadata": {},
   "outputs": [
    {
     "data": {
      "text/html": [
       "\n",
       "    <div>\n",
       "      \n",
       "      <progress value='61360' max='61360' style='width:300px; height:20px; vertical-align: middle;'></progress>\n",
       "      [61360/61360 3:20:44, Epoch 5/5]\n",
       "    </div>\n",
       "    <table border=\"1\" class=\"dataframe\">\n",
       "  <thead>\n",
       " <tr style=\"text-align: left;\">\n",
       "      <th>Epoch</th>\n",
       "      <th>Training Loss</th>\n",
       "      <th>Validation Loss</th>\n",
       "      <th>Accuracy</th>\n",
       "    </tr>\n",
       "  </thead>\n",
       "  <tbody>\n",
       "    <tr>\n",
       "      <td>1</td>\n",
       "      <td>0.495200</td>\n",
       "      <td>0.463330</td>\n",
       "      <td>0.814773</td>\n",
       "    </tr>\n",
       "    <tr>\n",
       "      <td>2</td>\n",
       "      <td>0.427300</td>\n",
       "      <td>0.442544</td>\n",
       "      <td>0.829343</td>\n",
       "    </tr>\n",
       "    <tr>\n",
       "      <td>3</td>\n",
       "      <td>0.368000</td>\n",
       "      <td>0.448722</td>\n",
       "      <td>0.833011</td>\n",
       "    </tr>\n",
       "    <tr>\n",
       "      <td>4</td>\n",
       "      <td>0.343800</td>\n",
       "      <td>0.447656</td>\n",
       "      <td>0.834947</td>\n",
       "    </tr>\n",
       "    <tr>\n",
       "      <td>5</td>\n",
       "      <td>0.302800</td>\n",
       "      <td>0.464426</td>\n",
       "      <td>0.836984</td>\n",
       "    </tr>\n",
       "  </tbody>\n",
       "</table><p>"
      ],
      "text/plain": [
       "<IPython.core.display.HTML object>"
      ]
     },
     "metadata": {},
     "output_type": "display_data"
    },
    {
     "data": {
      "text/plain": [
       "TrainOutput(global_step=61360, training_loss=1641.5898372418878, metrics={'train_runtime': 12045.4003, 'train_samples_per_second': 163.009, 'train_steps_per_second': 5.094, 'total_flos': 2.2456654476804324e+16, 'train_loss': 1641.5898372418878, 'epoch': 5.0})"
      ]
     },
     "execution_count": 24,
     "metadata": {},
     "output_type": "execute_result"
    }
   ],
   "source": [
    "training_args = TrainingArguments(\n",
    "    output_dir=\"tmp/mobilebert\",\n",
    "    learning_rate=2e-5,\n",
    "    per_device_train_batch_size=32,\n",
    "    per_device_eval_batch_size=32,\n",
    "    num_train_epochs=5,\n",
    "    weight_decay=0.01,\n",
    "    eval_strategy=\"epoch\",\n",
    "    save_strategy=\"epoch\",\n",
    "    load_best_model_at_end=True,\n",
    "    push_to_hub=False,\n",
    ")\n",
    "\n",
    "trainer = Trainer(\n",
    "    model=model,\n",
    "    args=training_args,\n",
    "    train_dataset=tokenized_mnli[\"train\"],\n",
    "    eval_dataset=tokenized_mnli[\"validation_matched\"],\n",
    "    tokenizer=tokenizer,\n",
    "    data_collator=data_collator,\n",
    "    compute_metrics=compute_metrics,\n",
    ")\n",
    "\n",
    "trainer.train()"
   ]
  },
  {
   "cell_type": "code",
   "execution_count": 29,
   "id": "c82cab80-2157-473e-a630-1d7af548c07a",
   "metadata": {},
   "outputs": [],
   "source": [
    "torch.save(model.state_dict(), \"base-mnli.pt\")"
   ]
  },
  {
   "cell_type": "code",
   "execution_count": null,
   "id": "64744a32-9fde-48dd-a4c4-998be0694bfe",
   "metadata": {},
   "outputs": [],
   "source": []
  },
  {
   "cell_type": "code",
   "execution_count": null,
   "id": "3509f513-6ba0-4264-97dd-f0043b6cb9f6",
   "metadata": {},
   "outputs": [],
   "source": []
  },
  {
   "cell_type": "code",
   "execution_count": 14,
   "id": "7808a792-ea50-4956-9b0a-e26182e101a2",
   "metadata": {},
   "outputs": [],
   "source": [
    "def padding_tokenize(batch: Dict[str, List]):\n",
    "    return tokenizer(\n",
    "        text=batch[\"premise\"],\n",
    "        text_pair=batch[\"hypothesis\"],\n",
    "        truncation=True,\n",
    "        padding=True,\n",
    "        # padding=\"max_length\",\n",
    "        # max_length=512,\n",
    "        return_tensors=\"pt\",\n",
    "    )"
   ]
  },
  {
   "cell_type": "code",
   "execution_count": 106,
   "id": "99f2a32e-6bfd-45a8-9a79-7bb306700342",
   "metadata": {},
   "outputs": [
    {
     "data": {
      "application/vnd.jupyter.widget-view+json": {
       "model_id": "9955210812864013b3f914026dda24e1",
       "version_major": 2,
       "version_minor": 0
      },
      "text/plain": [
       "Map:   0%|          | 0/392702 [00:00<?, ? examples/s]"
      ]
     },
     "metadata": {},
     "output_type": "display_data"
    },
    {
     "data": {
      "application/vnd.jupyter.widget-view+json": {
       "model_id": "83b437c03e874d83a30f43587280f83e",
       "version_major": 2,
       "version_minor": 0
      },
      "text/plain": [
       "Map:   0%|          | 0/9815 [00:00<?, ? examples/s]"
      ]
     },
     "metadata": {},
     "output_type": "display_data"
    },
    {
     "data": {
      "application/vnd.jupyter.widget-view+json": {
       "model_id": "c34128da35984203987cfc70f4d70f65",
       "version_major": 2,
       "version_minor": 0
      },
      "text/plain": [
       "Map:   0%|          | 0/9832 [00:00<?, ? examples/s]"
      ]
     },
     "metadata": {},
     "output_type": "display_data"
    }
   ],
   "source": [
    "padded_tokenized_mnli = mnli.map(padding_tokenize, batched=True)"
   ]
  },
  {
   "cell_type": "code",
   "execution_count": 16,
   "id": "a4d46ede-e030-40fb-a420-353a1a4381a1",
   "metadata": {},
   "outputs": [],
   "source": [
    "def collate_mnli_batch(batch):\n",
    "    premises = [example[\"premise\"] for example in batch]\n",
    "    hypotheses = [example[\"hypothesis\"] for example in batch]\n",
    "    encoding = tokenizer(\n",
    "        text=premises,\n",
    "        text_pair=hypotheses,\n",
    "        truncation=True,\n",
    "        padding=True,\n",
    "        # padding=\"max_length\",\n",
    "        # max_length=512,\n",
    "        return_tensors=\"pt\",\n",
    "    )\n",
    "    \n",
    "    return {\n",
    "        \"premise\": premises,\n",
    "        \"hypothesis\": hypotheses,\n",
    "        \"label\": torch.LongTensor([example[\"label\"] for example in batch]),\n",
    "        \"input_ids\": torch.LongTensor(encoding[\"input_ids\"]),\n",
    "        \"token_type_ids\": torch.LongTensor(encoding[\"token_type_ids\"]),\n",
    "        \"attention_mask\": torch.LongTensor(encoding[\"attention_mask\"]),\n",
    "    }"
   ]
  },
  {
   "cell_type": "code",
   "execution_count": 17,
   "id": "dd03917c-9662-4c96-a5f7-a2dc864ecb5b",
   "metadata": {},
   "outputs": [],
   "source": [
    "data_loader = DataLoader(\n",
    "    mnli[\"validation_matched\"],\n",
    "    batch_size=16,\n",
    "    collate_fn=collate_mnli_batch,\n",
    ")"
   ]
  },
  {
   "cell_type": "code",
   "execution_count": null,
   "id": "7d526d7e-2d1d-4266-b91b-17d2c2fbd98b",
   "metadata": {},
   "outputs": [],
   "source": []
  },
  {
   "cell_type": "code",
   "execution_count": null,
   "id": "56f30aa3-46d0-4990-82d8-03b86c6672c0",
   "metadata": {},
   "outputs": [],
   "source": []
  },
  {
   "cell_type": "code",
   "execution_count": 17,
   "id": "32d608c5-72b7-41f9-98fa-b202324d4527",
   "metadata": {},
   "outputs": [
    {
     "name": "stderr",
     "output_type": "stream",
     "text": [
      "Some weights of MobileBertForSequenceClassification were not initialized from the model checkpoint at google/mobilebert-uncased and are newly initialized: ['classifier.bias', 'classifier.weight']\n",
      "You should probably TRAIN this model on a down-stream task to be able to use it for predictions and inference.\n"
     ]
    }
   ],
   "source": [
    "test_model = AutoModelForSequenceClassification.from_pretrained(\n",
    "    \"google/mobilebert-uncased\",\n",
    "    num_labels=3,\n",
    "    output_attentions=True,\n",
    ")"
   ]
  },
  {
   "cell_type": "code",
   "execution_count": 18,
   "id": "84464751-0d12-40f2-93b7-32ed21c91cbf",
   "metadata": {},
   "outputs": [],
   "source": [
    "test_model = test_model.to(\"mps\")"
   ]
  },
  {
   "cell_type": "code",
   "execution_count": 21,
   "id": "a7d70373-9acb-4b85-b86a-c687efd5d328",
   "metadata": {},
   "outputs": [],
   "source": [
    "val_accuracy = evaluate.load(\"accuracy\")"
   ]
  },
  {
   "cell_type": "code",
   "execution_count": null,
   "id": "70377b67-9289-4071-9c64-fb424b083300",
   "metadata": {},
   "outputs": [],
   "source": []
  },
  {
   "cell_type": "code",
   "execution_count": 22,
   "id": "e510ac27-49cc-4a43-950a-6f639804740d",
   "metadata": {},
   "outputs": [
    {
     "data": {
      "application/vnd.jupyter.widget-view+json": {
       "model_id": "cf180c53e855484eb4f003bd959aebdb",
       "version_major": 2,
       "version_minor": 0
      },
      "text/plain": [
       "  0%|          | 0/307 [00:00<?, ?it/s]"
      ]
     },
     "metadata": {},
     "output_type": "display_data"
    },
    {
     "name": "stderr",
     "output_type": "stream",
     "text": [
      "Asking to truncate to max_length but no maximum length is provided and the model has no predefined maximum length. Default to no truncation.\n"
     ]
    }
   ],
   "source": [
    "for batch in tqdm(data_loader):\n",
    "    outputs = test_model(\n",
    "        input_ids=batch[\"input_ids\"].to(\"mps\"),\n",
    "        token_type_ids=batch[\"token_type_ids\"].to(\"mps\"),\n",
    "        attention_mask=batch[\"attention_mask\"].to(\"mps\"),\n",
    "    )\n",
    "    predictions = np.argmax(outputs.logits.softmax(axis=1).detach().cpu().numpy(), axis=1)\n",
    "    labels = batch[\"label\"].numpy()\n",
    "    val_accuracy.add_batch(predictions=predictions, references=labels)"
   ]
  },
  {
   "cell_type": "code",
   "execution_count": 23,
   "id": "8601265d-2381-4b22-b713-6f63881c9bef",
   "metadata": {},
   "outputs": [
    {
     "data": {
      "text/plain": [
       "{'accuracy': 0.31818644931227713}"
      ]
     },
     "execution_count": 23,
     "metadata": {},
     "output_type": "execute_result"
    }
   ],
   "source": [
    "val_accuracy.compute()"
   ]
  },
  {
   "cell_type": "code",
   "execution_count": null,
   "id": "376d07a8-a9a0-4729-8ff9-4d6b38fda498",
   "metadata": {},
   "outputs": [],
   "source": []
  },
  {
   "cell_type": "code",
   "execution_count": 24,
   "id": "9d56aac1-c5d7-42e4-9d63-41bf1e0c124e",
   "metadata": {},
   "outputs": [
    {
     "data": {
      "application/vnd.jupyter.widget-view+json": {
       "model_id": "5cf827445de8404ea7524c1b8593af3f",
       "version_major": 2,
       "version_minor": 0
      },
      "text/plain": [
       "  0%|          | 0/307 [00:00<?, ?it/s]"
      ]
     },
     "metadata": {},
     "output_type": "display_data"
    }
   ],
   "source": [
    "original_attentions = []\n",
    "for batch in tqdm(data_loader):\n",
    "    outputs = test_model(\n",
    "        input_ids=batch[\"input_ids\"].to(\"mps\"),\n",
    "        token_type_ids=batch[\"token_type_ids\"].to(\"mps\"),\n",
    "        attention_mask=batch[\"attention_mask\"].to(\"mps\"),\n",
    "    )\n",
    "    original_attentions.append(np.stack([a.detach().cpu().numpy() for a in outputs.attentions]))"
   ]
  },
  {
   "cell_type": "code",
   "execution_count": 25,
   "id": "7d0162d3-739c-4f92-8b81-322c755c4b11",
   "metadata": {},
   "outputs": [
    {
     "data": {
      "text/plain": [
       "307"
      ]
     },
     "execution_count": 25,
     "metadata": {},
     "output_type": "execute_result"
    }
   ],
   "source": [
    "len(original_attentions)"
   ]
  },
  {
   "cell_type": "code",
   "execution_count": null,
   "id": "9ee9f286-eb02-4e60-b561-971aea91767c",
   "metadata": {},
   "outputs": [],
   "source": []
  },
  {
   "cell_type": "code",
   "execution_count": null,
   "id": "4a953cfc-df26-41b8-94f6-0a98410a2da4",
   "metadata": {},
   "outputs": [],
   "source": []
  },
  {
   "cell_type": "code",
   "execution_count": 26,
   "id": "8675f06e-57e9-42c9-8024-2f63b50c46fd",
   "metadata": {},
   "outputs": [
    {
     "name": "stderr",
     "output_type": "stream",
     "text": [
      "/var/folders/lh/54wrb2397y332g93yjhs44v0000cwj/T/ipykernel_42355/2592561591.py:1: FutureWarning: You are using `torch.load` with `weights_only=False` (the current default value), which uses the default pickle module implicitly. It is possible to construct malicious pickle data which will execute arbitrary code during unpickling (See https://github.com/pytorch/pytorch/blob/main/SECURITY.md#untrusted-models for more details). In a future release, the default value for `weights_only` will be flipped to `True`. This limits the functions that could be executed during unpickling. Arbitrary objects will no longer be allowed to be loaded via this mode unless they are explicitly allowlisted by the user via `torch.serialization.add_safe_globals`. We recommend you start setting `weights_only=True` for any use case where you don't have full control of the loaded file. Please open an issue on GitHub for any issues related to this experimental feature.\n",
      "  test_model.load_state_dict(torch.load(\"base-mnli.pt\"))\n"
     ]
    },
    {
     "data": {
      "text/plain": [
       "<All keys matched successfully>"
      ]
     },
     "execution_count": 26,
     "metadata": {},
     "output_type": "execute_result"
    }
   ],
   "source": [
    "test_model.load_state_dict(torch.load(\"base-mnli.pt\"))"
   ]
  },
  {
   "cell_type": "code",
   "execution_count": 27,
   "id": "35e56e35-4513-49ee-8492-17139354657e",
   "metadata": {},
   "outputs": [],
   "source": [
    "val_accuracy = evaluate.load(\"accuracy\")"
   ]
  },
  {
   "cell_type": "code",
   "execution_count": 28,
   "id": "3b5e42c4-bf87-4e1e-a5d9-ca79f1d51383",
   "metadata": {},
   "outputs": [
    {
     "data": {
      "application/vnd.jupyter.widget-view+json": {
       "model_id": "d6d34a1a48654478bfc7224984943c1b",
       "version_major": 2,
       "version_minor": 0
      },
      "text/plain": [
       "  0%|          | 0/307 [00:00<?, ?it/s]"
      ]
     },
     "metadata": {},
     "output_type": "display_data"
    }
   ],
   "source": [
    "for batch in tqdm(data_loader):\n",
    "    outputs = test_model(\n",
    "        input_ids=batch[\"input_ids\"].to(\"mps\"),\n",
    "        token_type_ids=batch[\"token_type_ids\"].to(\"mps\"),\n",
    "        attention_mask=batch[\"attention_mask\"].to(\"mps\"),\n",
    "    )\n",
    "    predictions = np.argmax(outputs.logits.softmax(axis=1).detach().cpu().numpy(), axis=1)\n",
    "    labels = batch[\"label\"].numpy()\n",
    "    val_accuracy.add_batch(predictions=predictions, references=labels)"
   ]
  },
  {
   "cell_type": "code",
   "execution_count": 29,
   "id": "028dd295-e3de-44d3-8825-27c83b0f559d",
   "metadata": {},
   "outputs": [
    {
     "data": {
      "text/plain": [
       "{'accuracy': 0.8309730005094244}"
      ]
     },
     "execution_count": 29,
     "metadata": {},
     "output_type": "execute_result"
    }
   ],
   "source": [
    "val_accuracy.compute()"
   ]
  },
  {
   "cell_type": "code",
   "execution_count": null,
   "id": "c519cfa3-7043-46c8-b7e2-683805b8f490",
   "metadata": {},
   "outputs": [],
   "source": []
  },
  {
   "cell_type": "code",
   "execution_count": null,
   "id": "a785cc5d-05e4-482a-8baa-d566da56e978",
   "metadata": {},
   "outputs": [],
   "source": []
  },
  {
   "cell_type": "code",
   "execution_count": 30,
   "id": "d9283fed-39c4-41bb-abfb-5c5c0ce0ab30",
   "metadata": {},
   "outputs": [
    {
     "data": {
      "application/vnd.jupyter.widget-view+json": {
       "model_id": "b798deafc79845e98e4fbe4a99713e57",
       "version_major": 2,
       "version_minor": 0
      },
      "text/plain": [
       "  0%|          | 0/307 [00:00<?, ?it/s]"
      ]
     },
     "metadata": {},
     "output_type": "display_data"
    }
   ],
   "source": [
    "base_attentions = []\n",
    "for batch in tqdm(data_loader):\n",
    "    outputs = test_model(\n",
    "        input_ids=batch[\"input_ids\"].to(\"mps\"),\n",
    "        token_type_ids=batch[\"token_type_ids\"].to(\"mps\"),\n",
    "        attention_mask=batch[\"attention_mask\"].to(\"mps\"),\n",
    "    )\n",
    "    base_attentions.append(np.stack([a.detach().cpu().numpy() for a in outputs.attentions]))"
   ]
  },
  {
   "cell_type": "code",
   "execution_count": 32,
   "id": "c3fab94e-9764-47f9-95f3-631a0d37004d",
   "metadata": {},
   "outputs": [],
   "source": [
    "def prepare_attention_batch(batch):\n",
    "    return np.transpose(np.reshape(batch, batch.shape[:-2] + (-1,)), axes=(1, 0, 2, 3))"
   ]
  },
  {
   "cell_type": "code",
   "execution_count": 34,
   "id": "6d186dbe-737b-4981-b5b3-8c227c8a6dc9",
   "metadata": {},
   "outputs": [
    {
     "data": {
      "text/plain": [
       "(24, 32, 4, 115, 115)"
      ]
     },
     "execution_count": 34,
     "metadata": {},
     "output_type": "execute_result"
    }
   ],
   "source": [
    "base_attentions[0].shape"
   ]
  },
  {
   "cell_type": "code",
   "execution_count": 35,
   "id": "2abc6ce4-d97d-4d9c-b5e8-59328e0e214b",
   "metadata": {},
   "outputs": [
    {
     "data": {
      "text/plain": [
       "(32, 24, 4, 13225)"
      ]
     },
     "execution_count": 35,
     "metadata": {},
     "output_type": "execute_result"
    }
   ],
   "source": [
    "prepare_attention_batch(base_attentions[0]).shape"
   ]
  },
  {
   "cell_type": "code",
   "execution_count": null,
   "id": "29b1e2d3-4f81-4742-96ff-a902103dcd22",
   "metadata": {},
   "outputs": [],
   "source": []
  },
  {
   "cell_type": "code",
   "execution_count": 34,
   "id": "b2ea2c2d-7b8c-439b-ae00-635263c6389c",
   "metadata": {},
   "outputs": [
    {
     "data": {
      "application/vnd.jupyter.widget-view+json": {
       "model_id": "2a85c7c4e6a942178cd4a7303d080067",
       "version_major": 2,
       "version_minor": 0
      },
      "text/plain": [
       "0it [00:00, ?it/s]"
      ]
     },
     "metadata": {},
     "output_type": "display_data"
    }
   ],
   "source": [
    "cosine_similarities = []\n",
    "for batch_pair in tqdm(zip(original_attentions, base_attentions)):\n",
    "    original_batch, base_batch = batch_pair\n",
    "    batch_cosine_similarities = nn.functional.cosine_similarity(\n",
    "        torch.tensor(prepare_attention_batch(original_batch)),\n",
    "        torch.tensor(prepare_attention_batch(base_batch)),\n",
    "        dim=-1\n",
    "    ).detach().cpu().numpy()\n",
    "    cosine_similarities.append(batch_cosine_similarities)"
   ]
  },
  {
   "cell_type": "code",
   "execution_count": 35,
   "id": "a57c9b85-f17d-4645-85cd-a1372a01846a",
   "metadata": {},
   "outputs": [],
   "source": [
    "avg_cosine_similarities = np.mean(np.concat(cosine_similarities), axis=0)"
   ]
  },
  {
   "cell_type": "code",
   "execution_count": 36,
   "id": "8c49f3aa-3a34-46b6-95f4-1972bd4fdfe4",
   "metadata": {},
   "outputs": [
    {
     "data": {
      "text/plain": [
       "(24, 4)"
      ]
     },
     "execution_count": 36,
     "metadata": {},
     "output_type": "execute_result"
    }
   ],
   "source": [
    "avg_cosine_similarities.shape"
   ]
  },
  {
   "cell_type": "code",
   "execution_count": 37,
   "id": "34649d4f-a6da-42a6-9809-476a068938a8",
   "metadata": {},
   "outputs": [
    {
     "data": {
      "text/plain": [
       "array([0.99593806, 0.99025327, 0.99138415, 0.99276686], dtype=float32)"
      ]
     },
     "execution_count": 37,
     "metadata": {},
     "output_type": "execute_result"
    }
   ],
   "source": [
    "avg_cosine_similarities[0]"
   ]
  },
  {
   "cell_type": "code",
   "execution_count": null,
   "id": "f020a0eb-4efe-43d8-a3ad-073b0b33e6cb",
   "metadata": {},
   "outputs": [],
   "source": []
  },
  {
   "cell_type": "code",
   "execution_count": 38,
   "id": "bb255323-9a92-45b2-a762-277c62d1da63",
   "metadata": {},
   "outputs": [],
   "source": [
    "import seaborn as sns"
   ]
  },
  {
   "cell_type": "code",
   "execution_count": 39,
   "id": "40bc1d74-3805-421f-8af9-f6acdc6460dc",
   "metadata": {},
   "outputs": [
    {
     "data": {
      "text/plain": [
       "<Axes: >"
      ]
     },
     "execution_count": 39,
     "metadata": {},
     "output_type": "execute_result"
    },
    {
     "data": {
      "image/png": "[encoded data removed]",
      "text/plain": [
       "<Figure size 640x480 with 2 Axes>"
      ]
     },
     "metadata": {},
     "output_type": "display_data"
    }
   ],
   "source": [
    "sns.heatmap(1 - avg_cosine_similarities)"
   ]
  },
  {
   "cell_type": "code",
   "execution_count": null,
   "id": "ff5538cc-2355-4586-95da-61e288523afd",
   "metadata": {},
   "outputs": [],
   "source": []
  },
  {
   "cell_type": "code",
   "execution_count": null,
   "id": "05f80024-1fe6-440c-aed9-a64608f8e81e",
   "metadata": {},
   "outputs": [],
   "source": []
  },
  {
   "cell_type": "code",
   "execution_count": 21,
   "id": "29894702-a242-4172-95e0-46e749017d4d",
   "metadata": {},
   "outputs": [
    {
     "data": {
      "text/plain": [
       "MobileBertForSequenceClassification(\n",
       "  (mobilebert): MobileBertModel(\n",
       "    (embeddings): MobileBertEmbeddings(\n",
       "      (word_embeddings): Embedding(30522, 128, padding_idx=0)\n",
       "      (position_embeddings): Embedding(512, 512)\n",
       "      (token_type_embeddings): Embedding(2, 512)\n",
       "      (embedding_transformation): Linear(in_features=384, out_features=512, bias=True)\n",
       "      (LayerNorm): NoNorm()\n",
       "      (dropout): Dropout(p=0.0, inplace=False)\n",
       "    )\n",
       "    (encoder): MobileBertEncoder(\n",
       "      (layer): ModuleList(\n",
       "        (0-23): 24 x MobileBertLayer(\n",
       "          (attention): MobileBertAttention(\n",
       "            (self): MobileBertSelfAttention(\n",
       "              (query): Linear(in_features=128, out_features=128, bias=True)\n",
       "              (key): Linear(in_features=128, out_features=128, bias=True)\n",
       "              (value): Linear(in_features=512, out_features=128, bias=True)\n",
       "              (dropout): Dropout(p=0.1, inplace=False)\n",
       "            )\n",
       "            (output): MobileBertSelfOutput(\n",
       "              (dense): Linear(in_features=128, out_features=128, bias=True)\n",
       "              (LayerNorm): NoNorm()\n",
       "            )\n",
       "          )\n",
       "          (intermediate): MobileBertIntermediate(\n",
       "            (dense): Linear(in_features=128, out_features=512, bias=True)\n",
       "            (intermediate_act_fn): ReLU()\n",
       "          )\n",
       "          (output): MobileBertOutput(\n",
       "            (dense): Linear(in_features=512, out_features=128, bias=True)\n",
       "            (LayerNorm): NoNorm()\n",
       "            (bottleneck): OutputBottleneck(\n",
       "              (dense): Linear(in_features=128, out_features=512, bias=True)\n",
       "              (LayerNorm): NoNorm()\n",
       "              (dropout): Dropout(p=0.0, inplace=False)\n",
       "            )\n",
       "          )\n",
       "          (bottleneck): Bottleneck(\n",
       "            (input): BottleneckLayer(\n",
       "              (dense): Linear(in_features=512, out_features=128, bias=True)\n",
       "              (LayerNorm): NoNorm()\n",
       "            )\n",
       "            (attention): BottleneckLayer(\n",
       "              (dense): Linear(in_features=512, out_features=128, bias=True)\n",
       "              (LayerNorm): NoNorm()\n",
       "            )\n",
       "          )\n",
       "          (ffn): ModuleList(\n",
       "            (0-2): 3 x FFNLayer(\n",
       "              (intermediate): MobileBertIntermediate(\n",
       "                (dense): Linear(in_features=128, out_features=512, bias=True)\n",
       "                (intermediate_act_fn): ReLU()\n",
       "              )\n",
       "              (output): FFNOutput(\n",
       "                (dense): Linear(in_features=512, out_features=128, bias=True)\n",
       "                (LayerNorm): NoNorm()\n",
       "              )\n",
       "            )\n",
       "          )\n",
       "        )\n",
       "      )\n",
       "    )\n",
       "    (pooler): MobileBertPooler()\n",
       "  )\n",
       "  (dropout): Dropout(p=0.0, inplace=False)\n",
       "  (classifier): Linear(in_features=512, out_features=2, bias=True)\n",
       ")"
      ]
     },
     "execution_count": 21,
     "metadata": {},
     "output_type": "execute_result"
    }
   ],
   "source": [
    "model"
   ]
  },
  {
   "cell_type": "code",
   "execution_count": 29,
   "id": "d647c1e9-3886-4798-9dff-671d2a124e6f",
   "metadata": {},
   "outputs": [
    {
     "data": {
      "text/plain": [
       "[Parameter containing:\n",
       " tensor([[-0.2266, -0.0468, -0.1313,  ..., -0.0694,  0.1024,  0.0643],\n",
       "         [ 0.2212, -0.1479,  0.0529,  ...,  0.1253, -0.0353, -0.0575],\n",
       "         [ 0.0316, -0.0239,  0.1146,  ..., -0.0174, -0.0099,  0.0407],\n",
       "         ...,\n",
       "         [ 0.0746,  0.1113,  0.1695,  ...,  0.1416,  0.0800,  0.0718],\n",
       "         [-0.1779, -0.0636, -0.2137,  ...,  0.0496, -0.0058,  0.1994],\n",
       "         [ 0.1006,  0.0032,  0.1494,  ..., -0.0088,  0.1172, -0.1506]],\n",
       "        device='mps:0', requires_grad=True),\n",
       " Parameter containing:\n",
       " tensor([ 9.9882e-02, -2.1004e-01, -7.4925e-01, -3.6873e-01,  1.5776e-01,\n",
       "         -1.2681e-01, -1.4546e-01, -3.0952e-02, -3.1803e-01,  1.3049e-01,\n",
       "          2.8325e-01,  1.2784e-01,  1.0947e-01,  8.4597e-03,  1.9864e-01,\n",
       "          1.9554e-01, -1.0397e-01,  8.0338e-02,  2.3664e+00,  4.5677e-02,\n",
       "         -1.5654e-01, -2.9233e-01, -2.4647e-01, -4.6836e-01, -7.0618e-02,\n",
       "          1.2230e-02,  2.3433e-01, -1.3977e-03,  8.0074e-02,  2.1029e-01,\n",
       "          3.6164e-02,  8.2796e-02,  4.9146e-01, -2.5112e-01,  5.1770e-01,\n",
       "          5.7232e-01,  3.3438e-01,  6.6916e-01, -1.2785e-01, -6.3470e-01,\n",
       "         -2.3442e-01,  5.5058e-01, -2.5212e-01,  3.7461e-01,  1.4275e-01,\n",
       "         -9.5278e-01,  3.8836e-01, -3.2073e-01,  5.9206e-01,  3.4458e-01,\n",
       "          1.5138e-01, -2.6958e-02, -6.7429e-01,  6.5559e-01, -6.1405e-01,\n",
       "          2.5588e-01, -4.5786e-01,  1.6474e-02, -1.1962e+00,  5.2803e-01,\n",
       "          3.3109e-01, -3.5064e-01, -1.6358e+00, -1.1176e-01, -3.4698e-01,\n",
       "          3.7428e-01,  1.1279e-01, -1.1966e-01,  1.7518e-01,  6.5273e-01,\n",
       "          3.0779e-01,  2.4830e-01, -3.4957e-01,  2.9021e-01,  1.3185e+00,\n",
       "         -6.7980e-01, -1.1004e+00,  3.5910e-01, -3.0526e-01,  4.4283e-01,\n",
       "          4.0174e-01,  8.8769e-01,  9.2640e-01, -1.2785e-01,  3.0202e-01,\n",
       "          4.4481e-01,  4.3210e-01, -2.2669e-01,  1.3822e-01, -4.4476e-01,\n",
       "         -1.6490e-01,  7.1229e-01,  5.0867e-01, -2.5067e-01, -5.4311e-01,\n",
       "         -1.0362e+00, -1.9257e-01,  1.9131e-01, -2.8296e-01,  2.0074e+00,\n",
       "          1.3732e+00, -1.7737e-01,  2.4599e-01, -1.3968e+00, -5.8196e-03,\n",
       "         -2.1223e-01, -1.7414e-01, -8.3920e-02,  5.1115e-03,  9.6068e-02,\n",
       "          2.6836e-01,  3.8873e-01,  1.8570e-01,  3.1810e-01,  6.9050e-02,\n",
       "          2.9153e-01,  2.1814e-01, -7.4151e-02,  5.1921e-02,  1.6619e-01,\n",
       "         -2.9437e-01, -1.4297e-01, -1.1775e+00, -3.1229e-01, -2.9727e-01,\n",
       "          2.6863e-01,  1.6881e-01,  1.2573e-01], device='mps:0',\n",
       "        requires_grad=True)]"
      ]
     },
     "execution_count": 29,
     "metadata": {},
     "output_type": "execute_result"
    }
   ],
   "source": [
    "list(model.mobilebert.encoder.layer[0].attention.self.query.parameters())"
   ]
  },
  {
   "cell_type": "code",
   "execution_count": 79,
   "id": "c49d83b1-983e-41ea-842b-64882649ae18",
   "metadata": {},
   "outputs": [
    {
     "data": {
      "text/plain": [
       "24582914"
      ]
     },
     "execution_count": 79,
     "metadata": {},
     "output_type": "execute_result"
    }
   ],
   "source": [
    "sum([param.numel() for param in model.parameters() if param.requires_grad])"
   ]
  },
  {
   "cell_type": "code",
   "execution_count": 19,
   "id": "b4c11468-7e46-43c4-ac44-81306bc5010d",
   "metadata": {},
   "outputs": [],
   "source": [
    "del model"
   ]
  },
  {
   "cell_type": "code",
   "execution_count": null,
   "id": "985149fd-cd01-44ed-8a7c-ea1b0bba646f",
   "metadata": {},
   "outputs": [],
   "source": []
  },
  {
   "cell_type": "code",
   "execution_count": null,
   "id": "00a3efbb-5269-46c5-aca2-8580e8e3d8d0",
   "metadata": {},
   "outputs": [],
   "source": []
  },
  {
   "cell_type": "code",
   "execution_count": 18,
   "id": "3a41a7e5-cfd9-4965-907f-e62cb4c39a6f",
   "metadata": {},
   "outputs": [],
   "source": [
    "class LoRAUpdate(nn.Module):\n",
    "    def __init__(self, in_features, out_features, rank, alpha, device=None):\n",
    "        super().__init__()\n",
    "        self.A = nn.Parameter(data=torch.empty((in_features, rank), device=device))\n",
    "        with torch.no_grad():\n",
    "            nn.init.xavier_normal_(self.A)\n",
    "        self.B = nn.Parameter(data=torch.zeros((rank, out_features), device=device))\n",
    "        self.rank = rank\n",
    "        self.alpha = alpha\n",
    "\n",
    "    def forward(self, input):\n",
    "        return (input @ self.A @ self.B) * self.alpha / self.rank"
   ]
  },
  {
   "cell_type": "code",
   "execution_count": 19,
   "id": "a1cac2c7-ac7b-4135-9d0f-5398c00b1d3c",
   "metadata": {},
   "outputs": [],
   "source": [
    "class LoRALayer(nn.Module):\n",
    "    def __init__(self, original_layer: nn.Linear, rank: int, alpha: int, device=None):\n",
    "        super().__init__()\n",
    "        self.original_layer = original_layer\n",
    "        self.lora_update = LoRAUpdate(\n",
    "            in_features=original_layer.in_features,\n",
    "            out_features=original_layer.out_features,\n",
    "            rank=rank,\n",
    "            alpha=alpha,\n",
    "            device=device,\n",
    "        )\n",
    "\n",
    "    def forward(self, input):\n",
    "        return self.original_layer(input) + self.lora_update(input)"
   ]
  },
  {
   "cell_type": "code",
   "execution_count": 27,
   "id": "64589391-bb26-42f6-ba88-936c6fbe7c47",
   "metadata": {},
   "outputs": [
    {
     "name": "stderr",
     "output_type": "stream",
     "text": [
      "Some weights of MobileBertForSequenceClassification were not initialized from the model checkpoint at google/mobilebert-uncased and are newly initialized: ['classifier.bias', 'classifier.weight']\n",
      "You should probably TRAIN this model on a down-stream task to be able to use it for predictions and inference.\n"
     ]
    }
   ],
   "source": [
    "lora_model = AutoModelForSequenceClassification.from_pretrained(\n",
    "    \"google/mobilebert-uncased\",\n",
    "    num_labels=3,\n",
    ")"
   ]
  },
  {
   "cell_type": "code",
   "execution_count": null,
   "id": "73128c51-8ffa-4630-a270-a32f4698cc4b",
   "metadata": {},
   "outputs": [],
   "source": []
  },
  {
   "cell_type": "code",
   "execution_count": 28,
   "id": "908ec246-7e26-488f-964e-b7ad009b31da",
   "metadata": {},
   "outputs": [],
   "source": [
    "for param in lora_model.parameters():\n",
    "    param.requires_grad = False"
   ]
  },
  {
   "cell_type": "code",
   "execution_count": 29,
   "id": "2dce97ad-c2d6-4779-85dd-e90ec768d25e",
   "metadata": {},
   "outputs": [
    {
     "data": {
      "text/plain": [
       "0"
      ]
     },
     "execution_count": 29,
     "metadata": {},
     "output_type": "execute_result"
    }
   ],
   "source": [
    "sum([param.numel() for param in lora_model.parameters() if param.requires_grad])"
   ]
  },
  {
   "cell_type": "code",
   "execution_count": null,
   "id": "81ec274d-fcfd-411b-81a3-96d2b29e33e3",
   "metadata": {},
   "outputs": [],
   "source": []
  },
  {
   "cell_type": "code",
   "execution_count": 30,
   "id": "8f78f8f9-9bb0-4bd3-8aed-7d53b66b3966",
   "metadata": {},
   "outputs": [],
   "source": [
    "rank = 2\n",
    "alpha = 2\n",
    "\n",
    "for layer in lora_model.mobilebert.encoder.layer:\n",
    "    layer.attention.self.query = LoRALayer(\n",
    "        layer.attention.self.query,\n",
    "        rank=rank,\n",
    "        alpha=alpha,\n",
    "    )\n",
    "    layer.attention.self.key = LoRALayer(\n",
    "        layer.attention.self.key,\n",
    "        rank=rank,\n",
    "        alpha=alpha,\n",
    "    )\n",
    "    layer.attention.self.value = LoRALayer(\n",
    "        layer.attention.self.value,\n",
    "        rank=rank,\n",
    "        alpha=alpha,\n",
    "    )\n",
    "    layer.attention.output.dense = LoRALayer(\n",
    "        layer.attention.output.dense,\n",
    "        rank=rank,\n",
    "        alpha=alpha,\n",
    "    )"
   ]
  },
  {
   "cell_type": "code",
   "execution_count": 31,
   "id": "e3fd04c9-d3b8-4164-a5e9-e9e1a8a37bae",
   "metadata": {},
   "outputs": [
    {
     "data": {
      "text/plain": [
       "MobileBertForSequenceClassification(\n",
       "  (mobilebert): MobileBertModel(\n",
       "    (embeddings): MobileBertEmbeddings(\n",
       "      (word_embeddings): Embedding(30522, 128, padding_idx=0)\n",
       "      (position_embeddings): Embedding(512, 512)\n",
       "      (token_type_embeddings): Embedding(2, 512)\n",
       "      (embedding_transformation): Linear(in_features=384, out_features=512, bias=True)\n",
       "      (LayerNorm): NoNorm()\n",
       "      (dropout): Dropout(p=0.0, inplace=False)\n",
       "    )\n",
       "    (encoder): MobileBertEncoder(\n",
       "      (layer): ModuleList(\n",
       "        (0-23): 24 x MobileBertLayer(\n",
       "          (attention): MobileBertAttention(\n",
       "            (self): MobileBertSelfAttention(\n",
       "              (query): LoRALayer(\n",
       "                (original_layer): Linear(in_features=128, out_features=128, bias=True)\n",
       "                (lora_update): LoRAUpdate()\n",
       "              )\n",
       "              (key): LoRALayer(\n",
       "                (original_layer): Linear(in_features=128, out_features=128, bias=True)\n",
       "                (lora_update): LoRAUpdate()\n",
       "              )\n",
       "              (value): LoRALayer(\n",
       "                (original_layer): Linear(in_features=512, out_features=128, bias=True)\n",
       "                (lora_update): LoRAUpdate()\n",
       "              )\n",
       "              (dropout): Dropout(p=0.1, inplace=False)\n",
       "            )\n",
       "            (output): MobileBertSelfOutput(\n",
       "              (dense): LoRALayer(\n",
       "                (original_layer): Linear(in_features=128, out_features=128, bias=True)\n",
       "                (lora_update): LoRAUpdate()\n",
       "              )\n",
       "              (LayerNorm): NoNorm()\n",
       "            )\n",
       "          )\n",
       "          (intermediate): MobileBertIntermediate(\n",
       "            (dense): Linear(in_features=128, out_features=512, bias=True)\n",
       "            (intermediate_act_fn): ReLU()\n",
       "          )\n",
       "          (output): MobileBertOutput(\n",
       "            (dense): Linear(in_features=512, out_features=128, bias=True)\n",
       "            (LayerNorm): NoNorm()\n",
       "            (bottleneck): OutputBottleneck(\n",
       "              (dense): Linear(in_features=128, out_features=512, bias=True)\n",
       "              (LayerNorm): NoNorm()\n",
       "              (dropout): Dropout(p=0.0, inplace=False)\n",
       "            )\n",
       "          )\n",
       "          (bottleneck): Bottleneck(\n",
       "            (input): BottleneckLayer(\n",
       "              (dense): Linear(in_features=512, out_features=128, bias=True)\n",
       "              (LayerNorm): NoNorm()\n",
       "            )\n",
       "            (attention): BottleneckLayer(\n",
       "              (dense): Linear(in_features=512, out_features=128, bias=True)\n",
       "              (LayerNorm): NoNorm()\n",
       "            )\n",
       "          )\n",
       "          (ffn): ModuleList(\n",
       "            (0-2): 3 x FFNLayer(\n",
       "              (intermediate): MobileBertIntermediate(\n",
       "                (dense): Linear(in_features=128, out_features=512, bias=True)\n",
       "                (intermediate_act_fn): ReLU()\n",
       "              )\n",
       "              (output): FFNOutput(\n",
       "                (dense): Linear(in_features=512, out_features=128, bias=True)\n",
       "                (LayerNorm): NoNorm()\n",
       "              )\n",
       "            )\n",
       "          )\n",
       "        )\n",
       "      )\n",
       "    )\n",
       "    (pooler): MobileBertPooler()\n",
       "  )\n",
       "  (dropout): Dropout(p=0.0, inplace=False)\n",
       "  (classifier): Linear(in_features=512, out_features=3, bias=True)\n",
       ")"
      ]
     },
     "execution_count": 31,
     "metadata": {},
     "output_type": "execute_result"
    }
   ],
   "source": [
    "lora_model"
   ]
  },
  {
   "cell_type": "code",
   "execution_count": null,
   "id": "e4f10b0b-e024-48dc-ac23-459d2bae88d4",
   "metadata": {},
   "outputs": [],
   "source": []
  },
  {
   "cell_type": "code",
   "execution_count": 32,
   "id": "c42b2f39-04a7-40bb-80f9-76ec9642bab0",
   "metadata": {},
   "outputs": [
    {
     "data": {
      "text/plain": [
       "67584"
      ]
     },
     "execution_count": 32,
     "metadata": {},
     "output_type": "execute_result"
    }
   ],
   "source": [
    "sum([param.numel() for param in lora_model.parameters() if param.requires_grad])"
   ]
  },
  {
   "cell_type": "code",
   "execution_count": null,
   "id": "ffdeeac3-5ec0-4611-b62c-a0b6299f1cd8",
   "metadata": {},
   "outputs": [],
   "source": []
  },
  {
   "cell_type": "code",
   "execution_count": 33,
   "id": "e8e56015-bd1f-491b-997d-3c54a5802b3c",
   "metadata": {},
   "outputs": [
    {
     "data": {
      "text/plain": [
       "device(type='cuda', index=0)"
      ]
     },
     "execution_count": 33,
     "metadata": {},
     "output_type": "execute_result"
    }
   ],
   "source": [
    "lora_model = lora_model.to(\"cuda\")\n",
    "lora_model.device"
   ]
  },
  {
   "cell_type": "code",
   "execution_count": null,
   "id": "33ae276c-0157-4cba-9812-4e21aadb288d",
   "metadata": {},
   "outputs": [],
   "source": []
  },
  {
   "cell_type": "code",
   "execution_count": 34,
   "id": "86fbe620-53e2-4427-b30f-92b9890d5ae6",
   "metadata": {},
   "outputs": [
    {
     "data": {
      "text/html": [
       "\n",
       "    <div>\n",
       "      \n",
       "      <progress value='61360' max='61360' style='width:300px; height:20px; vertical-align: middle;'></progress>\n",
       "      [61360/61360 2:38:26, Epoch 5/5]\n",
       "    </div>\n",
       "    <table border=\"1\" class=\"dataframe\">\n",
       "  <thead>\n",
       " <tr style=\"text-align: left;\">\n",
       "      <th>Epoch</th>\n",
       "      <th>Training Loss</th>\n",
       "      <th>Validation Loss</th>\n",
       "      <th>Accuracy</th>\n",
       "    </tr>\n",
       "  </thead>\n",
       "  <tbody>\n",
       "    <tr>\n",
       "      <td>1</td>\n",
       "      <td>0.689400</td>\n",
       "      <td>0.973045</td>\n",
       "      <td>0.778299</td>\n",
       "    </tr>\n",
       "    <tr>\n",
       "      <td>2</td>\n",
       "      <td>0.558700</td>\n",
       "      <td>0.740534</td>\n",
       "      <td>0.789710</td>\n",
       "    </tr>\n",
       "    <tr>\n",
       "      <td>3</td>\n",
       "      <td>0.529600</td>\n",
       "      <td>0.525349</td>\n",
       "      <td>0.788996</td>\n",
       "    </tr>\n",
       "    <tr>\n",
       "      <td>4</td>\n",
       "      <td>0.788000</td>\n",
       "      <td>0.511647</td>\n",
       "      <td>0.797045</td>\n",
       "    </tr>\n",
       "    <tr>\n",
       "      <td>5</td>\n",
       "      <td>0.514800</td>\n",
       "      <td>0.505928</td>\n",
       "      <td>0.798879</td>\n",
       "    </tr>\n",
       "  </tbody>\n",
       "</table><p>"
      ],
      "text/plain": [
       "<IPython.core.display.HTML object>"
      ]
     },
     "metadata": {},
     "output_type": "display_data"
    },
    {
     "data": {
      "text/plain": [
       "TrainOutput(global_step=61360, training_loss=6291.218737010881, metrics={'train_runtime': 9506.8474, 'train_samples_per_second': 206.536, 'train_steps_per_second': 6.454, 'total_flos': 2.2531003058577636e+16, 'train_loss': 6291.218737010881, 'epoch': 5.0})"
      ]
     },
     "execution_count": 34,
     "metadata": {},
     "output_type": "execute_result"
    }
   ],
   "source": [
    "lora_training_args = TrainingArguments(\n",
    "    output_dir=\"tmp/mobilebert_mnli_lora\",\n",
    "    learning_rate=5e-4,\n",
    "    per_device_train_batch_size=32,\n",
    "    per_device_eval_batch_size=32,\n",
    "    num_train_epochs=5,\n",
    "    weight_decay=0.01,\n",
    "    eval_strategy=\"epoch\",\n",
    "    save_strategy=\"epoch\",\n",
    "    load_best_model_at_end=True,\n",
    "    push_to_hub=False,\n",
    ")\n",
    "\n",
    "lora_trainer = Trainer(\n",
    "    model=lora_model,\n",
    "    args=lora_training_args,\n",
    "    train_dataset=tokenized_mnli[\"train\"],\n",
    "    eval_dataset=tokenized_mnli[\"validation_matched\"],\n",
    "    tokenizer=tokenizer,\n",
    "    data_collator=data_collator,\n",
    "    compute_metrics=compute_metrics,\n",
    ")\n",
    "\n",
    "lora_trainer.train()"
   ]
  },
  {
   "cell_type": "code",
   "execution_count": 35,
   "id": "e322fdc8-96de-4ceb-9e1f-800421a6ddc9",
   "metadata": {},
   "outputs": [],
   "source": [
    "del lora_model"
   ]
  },
  {
   "cell_type": "code",
   "execution_count": null,
   "id": "29e83e97-c54a-49f8-8e24-b5f8da2d1462",
   "metadata": {},
   "outputs": [],
   "source": []
  },
  {
   "cell_type": "code",
   "execution_count": 23,
   "id": "17249615-38b2-4cdb-9714-43d86d4ade9b",
   "metadata": {
    "scrolled": true
   },
   "outputs": [
    {
     "name": "stderr",
     "output_type": "stream",
     "text": [
      "Some weights of MobileBertForSequenceClassification were not initialized from the model checkpoint at google/mobilebert-uncased and are newly initialized: ['classifier.bias', 'classifier.weight']\n",
      "You should probably TRAIN this model on a down-stream task to be able to use it for predictions and inference.\n"
     ]
    }
   ],
   "source": [
    "lora_model = AutoModelForSequenceClassification.from_pretrained(\n",
    "    \"google/mobilebert-uncased\",\n",
    "    num_labels=3,\n",
    ")"
   ]
  },
  {
   "cell_type": "code",
   "execution_count": 24,
   "id": "efab7b29-7ef2-4242-a799-fb0f0fb17814",
   "metadata": {},
   "outputs": [],
   "source": [
    "for param in lora_model.parameters():\n",
    "    param.requires_grad = False"
   ]
  },
  {
   "cell_type": "code",
   "execution_count": 25,
   "id": "a881c954-3d17-413b-8dd4-3fe947c20e62",
   "metadata": {},
   "outputs": [
    {
     "data": {
      "text/plain": [
       "0"
      ]
     },
     "execution_count": 25,
     "metadata": {},
     "output_type": "execute_result"
    }
   ],
   "source": [
    "sum([param.numel() for param in lora_model.parameters() if param.requires_grad])"
   ]
  },
  {
   "cell_type": "code",
   "execution_count": 26,
   "id": "e244d301-bcf4-4a68-974f-e62cf81bcef9",
   "metadata": {},
   "outputs": [],
   "source": [
    "rank = 8\n",
    "alpha = 8\n",
    "\n",
    "for layer in lora_model.mobilebert.encoder.layer:\n",
    "    layer.attention.self.query = LoRALayer(\n",
    "        layer.attention.self.query,\n",
    "        rank=rank,\n",
    "        alpha=alpha,\n",
    "    )\n",
    "    layer.attention.self.key = LoRALayer(\n",
    "        layer.attention.self.key,\n",
    "        rank=rank,\n",
    "        alpha=alpha,\n",
    "    )\n",
    "    layer.attention.self.value = LoRALayer(\n",
    "        layer.attention.self.value,\n",
    "        rank=rank,\n",
    "        alpha=alpha,\n",
    "    )\n",
    "    layer.attention.output.dense = LoRALayer(\n",
    "        layer.attention.output.dense,\n",
    "        rank=rank,\n",
    "        alpha=alpha,\n",
    "    )"
   ]
  },
  {
   "cell_type": "code",
   "execution_count": 27,
   "id": "4cbba621-1734-4b87-a858-358a1ac48a89",
   "metadata": {},
   "outputs": [
    {
     "data": {
      "text/plain": [
       "270336"
      ]
     },
     "execution_count": 27,
     "metadata": {},
     "output_type": "execute_result"
    }
   ],
   "source": [
    "sum([param.numel() for param in lora_model.parameters() if param.requires_grad])"
   ]
  },
  {
   "cell_type": "code",
   "execution_count": 28,
   "id": "ec387892-0027-4fc2-99a0-dd44cd708369",
   "metadata": {},
   "outputs": [
    {
     "name": "stderr",
     "output_type": "stream",
     "text": [
      "huggingface/tokenizers: The current process just got forked, after parallelism has already been used. Disabling parallelism to avoid deadlocks...\n",
      "To disable this warning, you can either:\n",
      "\t- Avoid using `tokenizers` before the fork if possible\n",
      "\t- Explicitly set the environment variable TOKENIZERS_PARALLELISM=(true | false)\n",
      "huggingface/tokenizers: The current process just got forked, after parallelism has already been used. Disabling parallelism to avoid deadlocks...\n",
      "To disable this warning, you can either:\n",
      "\t- Avoid using `tokenizers` before the fork if possible\n",
      "\t- Explicitly set the environment variable TOKENIZERS_PARALLELISM=(true | false)\n"
     ]
    },
    {
     "data": {
      "text/plain": [
       "device(type='cuda', index=0)"
      ]
     },
     "execution_count": 28,
     "metadata": {},
     "output_type": "execute_result"
    }
   ],
   "source": [
    "lora_model = lora_model.to(\"cuda\")\n",
    "lora_model.device"
   ]
  },
  {
   "cell_type": "code",
   "execution_count": 52,
   "id": "c6df112a-d479-479f-9c7f-a737e3d90ef8",
   "metadata": {},
   "outputs": [
    {
     "data": {
      "text/html": [
       "\n",
       "    <div>\n",
       "      \n",
       "      <progress value='61360' max='61360' style='width:300px; height:20px; vertical-align: middle;'></progress>\n",
       "      [61360/61360 2:33:54, Epoch 5/5]\n",
       "    </div>\n",
       "    <table border=\"1\" class=\"dataframe\">\n",
       "  <thead>\n",
       " <tr style=\"text-align: left;\">\n",
       "      <th>Epoch</th>\n",
       "      <th>Training Loss</th>\n",
       "      <th>Validation Loss</th>\n",
       "      <th>Accuracy</th>\n",
       "    </tr>\n",
       "  </thead>\n",
       "  <tbody>\n",
       "    <tr>\n",
       "      <td>1</td>\n",
       "      <td>0.828900</td>\n",
       "      <td>0.529422</td>\n",
       "      <td>0.789608</td>\n",
       "    </tr>\n",
       "    <tr>\n",
       "      <td>2</td>\n",
       "      <td>0.550200</td>\n",
       "      <td>0.497341</td>\n",
       "      <td>0.800713</td>\n",
       "    </tr>\n",
       "    <tr>\n",
       "      <td>3</td>\n",
       "      <td>0.499200</td>\n",
       "      <td>0.491775</td>\n",
       "      <td>0.804585</td>\n",
       "    </tr>\n",
       "    <tr>\n",
       "      <td>4</td>\n",
       "      <td>18.122600</td>\n",
       "      <td>0.476772</td>\n",
       "      <td>0.811411</td>\n",
       "    </tr>\n",
       "    <tr>\n",
       "      <td>5</td>\n",
       "      <td>0.470300</td>\n",
       "      <td>0.475475</td>\n",
       "      <td>0.813856</td>\n",
       "    </tr>\n",
       "  </tbody>\n",
       "</table><p>"
      ],
      "text/plain": [
       "<IPython.core.display.HTML object>"
      ]
     },
     "metadata": {},
     "output_type": "display_data"
    },
    {
     "data": {
      "text/plain": [
       "TrainOutput(global_step=61360, training_loss=5755.326826585225, metrics={'train_runtime': 9234.4298, 'train_samples_per_second': 212.629, 'train_steps_per_second': 6.645, 'total_flos': 2.305144313099082e+16, 'train_loss': 5755.326826585225, 'epoch': 5.0})"
      ]
     },
     "execution_count": 52,
     "metadata": {},
     "output_type": "execute_result"
    }
   ],
   "source": [
    "lora_training_args = TrainingArguments(\n",
    "    output_dir=\"tmp/mobilebert_mnli_lora\",\n",
    "    learning_rate=2e-4,\n",
    "    per_device_train_batch_size=32,\n",
    "    per_device_eval_batch_size=32,\n",
    "    num_train_epochs=5,\n",
    "    weight_decay=0.01,\n",
    "    eval_strategy=\"epoch\",\n",
    "    save_strategy=\"epoch\",\n",
    "    load_best_model_at_end=True,\n",
    "    push_to_hub=False,\n",
    ")\n",
    "\n",
    "lora_trainer = Trainer(\n",
    "    model=lora_model,\n",
    "    args=lora_training_args,\n",
    "    train_dataset=tokenized_mnli[\"train\"],\n",
    "    eval_dataset=tokenized_mnli[\"validation_matched\"],\n",
    "    tokenizer=tokenizer,\n",
    "    data_collator=data_collator,\n",
    "    compute_metrics=compute_metrics,\n",
    ")\n",
    "\n",
    "lora_trainer.train()"
   ]
  },
  {
   "cell_type": "code",
   "execution_count": null,
   "id": "85fe532c-9dbd-4b2a-9a78-910d32026eaa",
   "metadata": {},
   "outputs": [],
   "source": []
  },
  {
   "cell_type": "code",
   "execution_count": null,
   "id": "56ac955a-a6e0-44a2-893a-add763bf2dd8",
   "metadata": {},
   "outputs": [],
   "source": []
  },
  {
   "cell_type": "code",
   "execution_count": null,
   "id": "4decba87-400c-4c5a-a1ef-1278f54ab581",
   "metadata": {},
   "outputs": [],
   "source": []
  },
  {
   "cell_type": "code",
   "execution_count": 30,
   "id": "db36b1d5-2723-4a55-8e80-108ba995988a",
   "metadata": {},
   "outputs": [],
   "source": [
    "del lora_model"
   ]
  },
  {
   "cell_type": "code",
   "execution_count": 31,
   "id": "b6f5befc-b887-470f-b38b-2ece64185449",
   "metadata": {},
   "outputs": [],
   "source": [
    "accuracy = evaluate.load(\"accuracy\")"
   ]
  },
  {
   "cell_type": "code",
   "execution_count": 20,
   "id": "0918e7da-4b49-4e87-a83d-7131178dffca",
   "metadata": {
    "scrolled": true
   },
   "outputs": [
    {
     "name": "stderr",
     "output_type": "stream",
     "text": [
      "Some weights of MobileBertForSequenceClassification were not initialized from the model checkpoint at google/mobilebert-uncased and are newly initialized: ['classifier.bias', 'classifier.weight']\n",
      "You should probably TRAIN this model on a down-stream task to be able to use it for predictions and inference.\n"
     ]
    }
   ],
   "source": [
    "lora_model = AutoModelForSequenceClassification.from_pretrained(\n",
    "    \"google/mobilebert-uncased\",\n",
    "    num_labels=3,\n",
    ")"
   ]
  },
  {
   "cell_type": "code",
   "execution_count": 21,
   "id": "6fc1a542-48a0-4fc5-8fd2-d37ec2456769",
   "metadata": {},
   "outputs": [],
   "source": [
    "for param in lora_model.parameters():\n",
    "    param.requires_grad = False"
   ]
  },
  {
   "cell_type": "code",
   "execution_count": 22,
   "id": "4a3ca7f7-4a4b-4021-a552-917e240aaca1",
   "metadata": {},
   "outputs": [
    {
     "data": {
      "text/plain": [
       "0"
      ]
     },
     "execution_count": 22,
     "metadata": {},
     "output_type": "execute_result"
    }
   ],
   "source": [
    "sum([param.numel() for param in lora_model.parameters() if param.requires_grad])"
   ]
  },
  {
   "cell_type": "code",
   "execution_count": 23,
   "id": "a6975cc6-4ed1-45ac-9401-33bd859353f8",
   "metadata": {},
   "outputs": [],
   "source": [
    "rank = 16\n",
    "alpha = 16\n",
    "\n",
    "for layer in lora_model.mobilebert.encoder.layer:\n",
    "    layer.attention.self.query = LoRALayer(\n",
    "        layer.attention.self.query,\n",
    "        rank=rank,\n",
    "        alpha=alpha,\n",
    "    )\n",
    "    layer.attention.self.key = LoRALayer(\n",
    "        layer.attention.self.key,\n",
    "        rank=rank,\n",
    "        alpha=alpha,\n",
    "    )\n",
    "    layer.attention.self.value = LoRALayer(\n",
    "        layer.attention.self.value,\n",
    "        rank=rank,\n",
    "        alpha=alpha,\n",
    "    )\n",
    "    layer.attention.output.dense = LoRALayer(\n",
    "        layer.attention.output.dense,\n",
    "        rank=rank,\n",
    "        alpha=alpha,\n",
    "    )"
   ]
  },
  {
   "cell_type": "code",
   "execution_count": 24,
   "id": "3146b650-9169-49d3-bf96-bc5a2b1a37fb",
   "metadata": {},
   "outputs": [
    {
     "data": {
      "text/plain": [
       "540672"
      ]
     },
     "execution_count": 24,
     "metadata": {},
     "output_type": "execute_result"
    }
   ],
   "source": [
    "sum([param.numel() for param in lora_model.parameters() if param.requires_grad])"
   ]
  },
  {
   "cell_type": "code",
   "execution_count": 25,
   "id": "de17c366-2934-4df5-8df0-e414625627b7",
   "metadata": {},
   "outputs": [
    {
     "data": {
      "text/plain": [
       "device(type='cuda', index=0)"
      ]
     },
     "execution_count": 25,
     "metadata": {},
     "output_type": "execute_result"
    }
   ],
   "source": [
    "lora_model = lora_model.to(\"cuda\")\n",
    "lora_model.device"
   ]
  },
  {
   "cell_type": "code",
   "execution_count": 32,
   "id": "9b49ce82-5908-46de-abc5-467c28899501",
   "metadata": {},
   "outputs": [
    {
     "data": {
      "text/html": [
       "\n",
       "    <div>\n",
       "      \n",
       "      <progress value='61360' max='61360' style='width:300px; height:20px; vertical-align: middle;'></progress>\n",
       "      [61360/61360 2:46:10, Epoch 5/5]\n",
       "    </div>\n",
       "    <table border=\"1\" class=\"dataframe\">\n",
       "  <thead>\n",
       " <tr style=\"text-align: left;\">\n",
       "      <th>Epoch</th>\n",
       "      <th>Training Loss</th>\n",
       "      <th>Validation Loss</th>\n",
       "      <th>Accuracy</th>\n",
       "    </tr>\n",
       "  </thead>\n",
       "  <tbody>\n",
       "    <tr>\n",
       "      <td>1</td>\n",
       "      <td>0.567900</td>\n",
       "      <td>0.671031</td>\n",
       "      <td>0.796536</td>\n",
       "    </tr>\n",
       "    <tr>\n",
       "      <td>2</td>\n",
       "      <td>1.360400</td>\n",
       "      <td>0.484642</td>\n",
       "      <td>0.807641</td>\n",
       "    </tr>\n",
       "    <tr>\n",
       "      <td>3</td>\n",
       "      <td>0.468200</td>\n",
       "      <td>0.488716</td>\n",
       "      <td>0.806928</td>\n",
       "    </tr>\n",
       "    <tr>\n",
       "      <td>4</td>\n",
       "      <td>0.451700</td>\n",
       "      <td>0.463180</td>\n",
       "      <td>0.821600</td>\n",
       "    </tr>\n",
       "    <tr>\n",
       "      <td>5</td>\n",
       "      <td>0.419000</td>\n",
       "      <td>0.462286</td>\n",
       "      <td>0.823943</td>\n",
       "    </tr>\n",
       "  </tbody>\n",
       "</table><p>"
      ],
      "text/plain": [
       "<IPython.core.display.HTML object>"
      ]
     },
     "metadata": {},
     "output_type": "display_data"
    },
    {
     "data": {
      "text/plain": [
       "TrainOutput(global_step=61360, training_loss=42068.101916809035, metrics={'train_runtime': 9971.5094, 'train_samples_per_second': 196.912, 'train_steps_per_second': 6.154, 'total_flos': 2.305144313099082e+16, 'train_loss': 42068.101916809035, 'epoch': 5.0})"
      ]
     },
     "execution_count": 32,
     "metadata": {},
     "output_type": "execute_result"
    }
   ],
   "source": [
    "lora_training_args = TrainingArguments(\n",
    "    output_dir=\"tmp/mobilebert_mnli_lora\",\n",
    "    learning_rate=5e-4,\n",
    "    per_device_train_batch_size=32,\n",
    "    per_device_eval_batch_size=32,\n",
    "    num_train_epochs=5,\n",
    "    weight_decay=0.01,\n",
    "    warmup_ratio=0.1,\n",
    "    eval_strategy=\"epoch\",\n",
    "    save_strategy=\"epoch\",\n",
    "    load_best_model_at_end=True,\n",
    "    push_to_hub=False,\n",
    ")\n",
    "\n",
    "lora_trainer = Trainer(\n",
    "    model=lora_model,\n",
    "    args=lora_training_args,\n",
    "    train_dataset=tokenized_mnli[\"train\"],\n",
    "    eval_dataset=tokenized_mnli[\"validation_matched\"],\n",
    "    tokenizer=tokenizer,\n",
    "    data_collator=data_collator,\n",
    "    compute_metrics=compute_metrics,\n",
    ")\n",
    "\n",
    "lora_trainer.train()"
   ]
  },
  {
   "cell_type": "code",
   "execution_count": null,
   "id": "3a6474ef-7e31-4c87-a8f9-ce55b9a91052",
   "metadata": {},
   "outputs": [],
   "source": []
  },
  {
   "cell_type": "code",
   "execution_count": 37,
   "id": "a306347c-01bf-499c-92ea-90acdbc4b293",
   "metadata": {},
   "outputs": [],
   "source": [
    "del lora_model"
   ]
  },
  {
   "cell_type": "code",
   "execution_count": 38,
   "id": "10367f70-cb15-41b0-baac-9c133ac7e376",
   "metadata": {},
   "outputs": [],
   "source": [
    "accuracy = evaluate.load(\"accuracy\")"
   ]
  },
  {
   "cell_type": "code",
   "execution_count": 39,
   "id": "6280e6bd-82ec-44e7-bf7e-eebae9c2e4ac",
   "metadata": {
    "scrolled": true
   },
   "outputs": [
    {
     "name": "stderr",
     "output_type": "stream",
     "text": [
      "Some weights of MobileBertForSequenceClassification were not initialized from the model checkpoint at google/mobilebert-uncased and are newly initialized: ['classifier.bias', 'classifier.weight']\n",
      "You should probably TRAIN this model on a down-stream task to be able to use it for predictions and inference.\n"
     ]
    }
   ],
   "source": [
    "lora_model = AutoModelForSequenceClassification.from_pretrained(\n",
    "    \"google/mobilebert-uncased\",\n",
    "    num_labels=3,\n",
    ")"
   ]
  },
  {
   "cell_type": "code",
   "execution_count": 40,
   "id": "80ee1ff0-8d57-48db-82c1-f54c823e75b7",
   "metadata": {},
   "outputs": [],
   "source": [
    "for param in lora_model.parameters():\n",
    "    param.requires_grad = False"
   ]
  },
  {
   "cell_type": "code",
   "execution_count": 41,
   "id": "fccc5131-c19b-4d5b-a2e1-93a39d2e9122",
   "metadata": {},
   "outputs": [
    {
     "data": {
      "text/plain": [
       "0"
      ]
     },
     "execution_count": 41,
     "metadata": {},
     "output_type": "execute_result"
    }
   ],
   "source": [
    "sum([param.numel() for param in lora_model.parameters() if param.requires_grad])"
   ]
  },
  {
   "cell_type": "code",
   "execution_count": 42,
   "id": "bdf92c29-1a5b-4283-bb09-72274bfeefdc",
   "metadata": {},
   "outputs": [],
   "source": [
    "rank = 32\n",
    "alpha = 32\n",
    "\n",
    "for layer in lora_model.mobilebert.encoder.layer:\n",
    "    layer.attention.self.query = LoRALayer(\n",
    "        layer.attention.self.query,\n",
    "        rank=rank,\n",
    "        alpha=alpha,\n",
    "    )\n",
    "    layer.attention.self.key = LoRALayer(\n",
    "        layer.attention.self.key,\n",
    "        rank=rank,\n",
    "        alpha=alpha,\n",
    "    )\n",
    "    layer.attention.self.value = LoRALayer(\n",
    "        layer.attention.self.value,\n",
    "        rank=rank,\n",
    "        alpha=alpha,\n",
    "    )\n",
    "    layer.attention.output.dense = LoRALayer(\n",
    "        layer.attention.output.dense,\n",
    "        rank=rank,\n",
    "        alpha=alpha,\n",
    "    )"
   ]
  },
  {
   "cell_type": "code",
   "execution_count": 43,
   "id": "8674d7de-d91e-48f9-a938-48f34c38759f",
   "metadata": {},
   "outputs": [
    {
     "data": {
      "text/plain": [
       "1081344"
      ]
     },
     "execution_count": 43,
     "metadata": {},
     "output_type": "execute_result"
    }
   ],
   "source": [
    "sum([param.numel() for param in lora_model.parameters() if param.requires_grad])"
   ]
  },
  {
   "cell_type": "code",
   "execution_count": 44,
   "id": "3664d5f8-5127-4c38-94ab-f4caa78668fd",
   "metadata": {},
   "outputs": [
    {
     "data": {
      "text/plain": [
       "device(type='cuda', index=0)"
      ]
     },
     "execution_count": 44,
     "metadata": {},
     "output_type": "execute_result"
    }
   ],
   "source": [
    "lora_model = lora_model.to(\"cuda\")\n",
    "lora_model.device"
   ]
  },
  {
   "cell_type": "code",
   "execution_count": 45,
   "id": "08107a1d-65b0-41d4-9d67-3aa7166faf25",
   "metadata": {},
   "outputs": [
    {
     "data": {
      "text/html": [
       "\n",
       "    <div>\n",
       "      \n",
       "      <progress value='61360' max='61360' style='width:300px; height:20px; vertical-align: middle;'></progress>\n",
       "      [61360/61360 2:47:03, Epoch 5/5]\n",
       "    </div>\n",
       "    <table border=\"1\" class=\"dataframe\">\n",
       "  <thead>\n",
       " <tr style=\"text-align: left;\">\n",
       "      <th>Epoch</th>\n",
       "      <th>Training Loss</th>\n",
       "      <th>Validation Loss</th>\n",
       "      <th>Accuracy</th>\n",
       "    </tr>\n",
       "  </thead>\n",
       "  <tbody>\n",
       "    <tr>\n",
       "      <td>1</td>\n",
       "      <td>2.354400</td>\n",
       "      <td>3.701443</td>\n",
       "      <td>0.793989</td>\n",
       "    </tr>\n",
       "    <tr>\n",
       "      <td>2</td>\n",
       "      <td>0.495000</td>\n",
       "      <td>0.478828</td>\n",
       "      <td>0.813754</td>\n",
       "    </tr>\n",
       "    <tr>\n",
       "      <td>3</td>\n",
       "      <td>0.452400</td>\n",
       "      <td>0.483367</td>\n",
       "      <td>0.812124</td>\n",
       "    </tr>\n",
       "    <tr>\n",
       "      <td>4</td>\n",
       "      <td>0.431000</td>\n",
       "      <td>0.454950</td>\n",
       "      <td>0.826490</td>\n",
       "    </tr>\n",
       "    <tr>\n",
       "      <td>5</td>\n",
       "      <td>0.383200</td>\n",
       "      <td>0.452721</td>\n",
       "      <td>0.829852</td>\n",
       "    </tr>\n",
       "  </tbody>\n",
       "</table><p>"
      ],
      "text/plain": [
       "<IPython.core.display.HTML object>"
      ]
     },
     "metadata": {},
     "output_type": "display_data"
    },
    {
     "data": {
      "text/plain": [
       "TrainOutput(global_step=61360, training_loss=47751.95158606533, metrics={'train_runtime': 10023.2397, 'train_samples_per_second': 195.896, 'train_steps_per_second': 6.122, 'total_flos': 2.3646231785177316e+16, 'train_loss': 47751.95158606533, 'epoch': 5.0})"
      ]
     },
     "execution_count": 45,
     "metadata": {},
     "output_type": "execute_result"
    }
   ],
   "source": [
    "lora_training_args = TrainingArguments(\n",
    "    output_dir=\"tmp/mobilebert_mnli_lora\",\n",
    "    learning_rate=5e-4,\n",
    "    per_device_train_batch_size=32,\n",
    "    per_device_eval_batch_size=32,\n",
    "    num_train_epochs=5,\n",
    "    weight_decay=0.01,\n",
    "    warmup_ratio=0.1,\n",
    "    eval_strategy=\"epoch\",\n",
    "    save_strategy=\"epoch\",\n",
    "    load_best_model_at_end=True,\n",
    "    push_to_hub=False,\n",
    ")\n",
    "\n",
    "lora_trainer = Trainer(\n",
    "    model=lora_model,\n",
    "    args=lora_training_args,\n",
    "    train_dataset=tokenized_mnli[\"train\"],\n",
    "    eval_dataset=tokenized_mnli[\"validation_matched\"],\n",
    "    tokenizer=tokenizer,\n",
    "    data_collator=data_collator,\n",
    "    compute_metrics=compute_metrics,\n",
    ")\n",
    "\n",
    "lora_trainer.train()"
   ]
  },
  {
   "cell_type": "code",
   "execution_count": 54,
   "id": "e459d89f-47a6-474f-9e3d-74f217eab38b",
   "metadata": {},
   "outputs": [],
   "source": [
    "del lora_model"
   ]
  },
  {
   "cell_type": "code",
   "execution_count": null,
   "id": "d1830fab-681c-409c-97f4-5e6787847c62",
   "metadata": {},
   "outputs": [],
   "source": []
  },
  {
   "cell_type": "code",
   "execution_count": null,
   "id": "28a18ce9-50f7-4b41-a1d3-097e4fca8a10",
   "metadata": {},
   "outputs": [],
   "source": []
  },
  {
   "cell_type": "code",
   "execution_count": 46,
   "id": "c8a08047-55a3-4f25-a360-bf3930a8179c",
   "metadata": {},
   "outputs": [],
   "source": [
    "val_accuracy = evaluate.load(\"accuracy\")"
   ]
  },
  {
   "cell_type": "code",
   "execution_count": 47,
   "id": "ff3331b2-170f-4bb4-8a9d-e689a482821f",
   "metadata": {},
   "outputs": [
    {
     "data": {
      "application/vnd.jupyter.widget-view+json": {
       "model_id": "3464c39b89a447589933007920515cba",
       "version_major": 2,
       "version_minor": 0
      },
      "text/plain": [
       "  0%|          | 0/614 [00:00<?, ?it/s]"
      ]
     },
     "metadata": {},
     "output_type": "display_data"
    }
   ],
   "source": [
    "for batch in tqdm(data_loader):\n",
    "    outputs = lora_model(\n",
    "        input_ids=batch[\"input_ids\"].to(\"cuda\"),\n",
    "        token_type_ids=batch[\"token_type_ids\"].to(\"cuda\"),\n",
    "        attention_mask=batch[\"attention_mask\"].to(\"cuda\"),\n",
    "    )\n",
    "    predictions = np.argmax(outputs.logits.softmax(axis=1).detach().cpu().numpy(), axis=1)\n",
    "    labels = batch[\"label\"].numpy()\n",
    "    val_accuracy.add_batch(predictions=predictions, references=labels)"
   ]
  },
  {
   "cell_type": "code",
   "execution_count": 48,
   "id": "1d8e29c3-1c8b-4d35-9caf-b97c32b380b5",
   "metadata": {},
   "outputs": [
    {
     "data": {
      "text/plain": [
       "{'accuracy': 0.8298522669383597}"
      ]
     },
     "execution_count": 48,
     "metadata": {},
     "output_type": "execute_result"
    }
   ],
   "source": [
    "val_accuracy.compute()"
   ]
  },
  {
   "cell_type": "code",
   "execution_count": null,
   "id": "6ea63221-2d24-40d2-8dc0-7e40eda2e5a5",
   "metadata": {},
   "outputs": [],
   "source": []
  },
  {
   "cell_type": "code",
   "execution_count": null,
   "id": "d45df9ed-5920-41d5-a881-a93df96b6a11",
   "metadata": {},
   "outputs": [],
   "source": []
  },
  {
   "cell_type": "code",
   "execution_count": 49,
   "id": "9b85a3a1-8dcc-4ac5-9def-89e5138a210f",
   "metadata": {},
   "outputs": [],
   "source": [
    "torch.save(lora_model.state_dict(), \"lora-mnli-r-32.pt\")"
   ]
  },
  {
   "cell_type": "code",
   "execution_count": null,
   "id": "c00c45af-c439-46ab-8cd2-ba630678d0ea",
   "metadata": {},
   "outputs": [],
   "source": []
  },
  {
   "cell_type": "code",
   "execution_count": 20,
   "id": "f2bc2290-abf8-4f86-82d5-89f48abc3fbe",
   "metadata": {},
   "outputs": [
    {
     "name": "stderr",
     "output_type": "stream",
     "text": [
      "Some weights of MobileBertForSequenceClassification were not initialized from the model checkpoint at google/mobilebert-uncased and are newly initialized: ['classifier.bias', 'classifier.weight']\n",
      "You should probably TRAIN this model on a down-stream task to be able to use it for predictions and inference.\n"
     ]
    }
   ],
   "source": [
    "test_model = AutoModelForSequenceClassification.from_pretrained(\n",
    "    \"google/mobilebert-uncased\",\n",
    "    num_labels=3,\n",
    "    output_attentions=True,\n",
    ")"
   ]
  },
  {
   "cell_type": "code",
   "execution_count": 21,
   "id": "8eb69efa-23d7-4e62-8354-8a1b42669a6c",
   "metadata": {},
   "outputs": [],
   "source": [
    "test_model = test_model.to(\"cuda\")"
   ]
  },
  {
   "cell_type": "code",
   "execution_count": 22,
   "id": "3645178c-a707-48d7-aa3b-c6def8beac88",
   "metadata": {},
   "outputs": [],
   "source": [
    "val_accuracy = evaluate.load(\"accuracy\")"
   ]
  },
  {
   "cell_type": "code",
   "execution_count": null,
   "id": "1df80974-0075-4b44-aa86-64cfb62e055a",
   "metadata": {},
   "outputs": [],
   "source": []
  },
  {
   "cell_type": "code",
   "execution_count": 23,
   "id": "0c60eba0-f4e0-4a4d-b76d-9cc8698c9323",
   "metadata": {},
   "outputs": [
    {
     "data": {
      "application/vnd.jupyter.widget-view+json": {
       "model_id": "ec2f8239eb0e489080e118e93df46b94",
       "version_major": 2,
       "version_minor": 0
      },
      "text/plain": [
       "  0%|          | 0/614 [00:00<?, ?it/s]"
      ]
     },
     "metadata": {},
     "output_type": "display_data"
    },
    {
     "name": "stderr",
     "output_type": "stream",
     "text": [
      "Asking to truncate to max_length but no maximum length is provided and the model has no predefined maximum length. Default to no truncation.\n"
     ]
    }
   ],
   "source": [
    "for batch in tqdm(data_loader):\n",
    "    outputs = test_model(\n",
    "        input_ids=batch[\"input_ids\"].to(\"cuda\"),\n",
    "        token_type_ids=batch[\"token_type_ids\"].to(\"cuda\"),\n",
    "        attention_mask=batch[\"attention_mask\"].to(\"cuda\"),\n",
    "    )\n",
    "    predictions = np.argmax(outputs.logits.softmax(axis=1).detach().cpu().numpy(), axis=1)\n",
    "    labels = batch[\"label\"].numpy()\n",
    "    val_accuracy.add_batch(predictions=predictions, references=labels)"
   ]
  },
  {
   "cell_type": "code",
   "execution_count": 24,
   "id": "424dd03b-4cfe-47e6-a4a8-1b80d377e95a",
   "metadata": {},
   "outputs": [
    {
     "data": {
      "text/plain": [
       "{'accuracy': 0.3544574630667346}"
      ]
     },
     "execution_count": 24,
     "metadata": {},
     "output_type": "execute_result"
    }
   ],
   "source": [
    "val_accuracy.compute()"
   ]
  },
  {
   "cell_type": "code",
   "execution_count": null,
   "id": "834c186d-89dc-4ee5-9488-151c82f1377a",
   "metadata": {},
   "outputs": [],
   "source": []
  },
  {
   "cell_type": "code",
   "execution_count": 23,
   "id": "50e1a83a-0f71-49b2-baf0-04e3f620d270",
   "metadata": {},
   "outputs": [
    {
     "data": {
      "application/vnd.jupyter.widget-view+json": {
       "model_id": "2c3e87603ff14ad7b316fedbfedea1cb",
       "version_major": 2,
       "version_minor": 0
      },
      "text/plain": [
       "  0%|          | 0/614 [00:00<?, ?it/s]"
      ]
     },
     "metadata": {},
     "output_type": "display_data"
    }
   ],
   "source": [
    "original_attentions = []\n",
    "for batch in tqdm(data_loader):\n",
    "    outputs = test_model(\n",
    "        input_ids=batch[\"input_ids\"].to(\"cuda\"),\n",
    "        token_type_ids=batch[\"token_type_ids\"].to(\"cuda\"),\n",
    "        attention_mask=batch[\"attention_mask\"].to(\"cuda\"),\n",
    "    )\n",
    "    original_attentions.append(np.stack([a.detach().cpu().numpy() for a in outputs.attentions]))"
   ]
  },
  {
   "cell_type": "code",
   "execution_count": 24,
   "id": "799f6ddb-b984-4a98-9994-31d048d98781",
   "metadata": {},
   "outputs": [
    {
     "data": {
      "text/plain": [
       "614"
      ]
     },
     "execution_count": 24,
     "metadata": {},
     "output_type": "execute_result"
    }
   ],
   "source": [
    "len(original_attentions)"
   ]
  },
  {
   "cell_type": "code",
   "execution_count": 25,
   "id": "f960aee0-af08-4e86-b988-4a22cfb8b06e",
   "metadata": {},
   "outputs": [],
   "source": [
    "del test_model"
   ]
  },
  {
   "cell_type": "code",
   "execution_count": null,
   "id": "b6318672-a32c-4839-adfc-4cfdba7323cc",
   "metadata": {},
   "outputs": [],
   "source": []
  },
  {
   "cell_type": "code",
   "execution_count": null,
   "id": "082cc4f9-2257-4a76-b607-2d50da949272",
   "metadata": {},
   "outputs": [],
   "source": []
  },
  {
   "cell_type": "code",
   "execution_count": null,
   "id": "e5fb8cd0-a766-4bbb-a415-cfeb9d8eb7a9",
   "metadata": {},
   "outputs": [],
   "source": []
  },
  {
   "cell_type": "code",
   "execution_count": null,
   "id": "e7d124d4-29d0-4154-828f-9852789afe29",
   "metadata": {},
   "outputs": [],
   "source": []
  },
  {
   "cell_type": "code",
   "execution_count": null,
   "id": "9912514e-0c16-4157-a2a2-e121c1072dae",
   "metadata": {},
   "outputs": [],
   "source": []
  },
  {
   "cell_type": "code",
   "execution_count": null,
   "id": "6db86e5f-7314-46f7-be5e-e42414a16d3f",
   "metadata": {},
   "outputs": [],
   "source": []
  },
  {
   "cell_type": "code",
   "execution_count": null,
   "id": "188fa29f-f3b0-4c5a-81f9-928a99de3015",
   "metadata": {},
   "outputs": [],
   "source": []
  },
  {
   "cell_type": "code",
   "execution_count": null,
   "id": "a13c358e-6628-452b-804c-07c8bf91d96b",
   "metadata": {},
   "outputs": [],
   "source": []
  },
  {
   "cell_type": "code",
   "execution_count": null,
   "id": "40c1d85b-ee47-46ef-bd3c-bec992055973",
   "metadata": {},
   "outputs": [],
   "source": []
  },
  {
   "cell_type": "code",
   "execution_count": null,
   "id": "518c9b0b-b35a-4a3e-a9a2-a25bf34d152a",
   "metadata": {},
   "outputs": [],
   "source": []
  },
  {
   "cell_type": "code",
   "execution_count": null,
   "id": "a1d8fd3d-3fa5-49af-9550-ef03abd7f7d4",
   "metadata": {},
   "outputs": [],
   "source": []
  },
  {
   "cell_type": "code",
   "execution_count": 25,
   "id": "27ea05d8-fb37-4219-8104-bb1ae5e73662",
   "metadata": {},
   "outputs": [
    {
     "name": "stderr",
     "output_type": "stream",
     "text": [
      "Some weights of MobileBertForSequenceClassification were not initialized from the model checkpoint at google/mobilebert-uncased and are newly initialized: ['classifier.bias', 'classifier.weight']\n",
      "You should probably TRAIN this model on a down-stream task to be able to use it for predictions and inference.\n"
     ]
    }
   ],
   "source": [
    "lora_model = AutoModelForSequenceClassification.from_pretrained(\n",
    "    \"google/mobilebert-uncased\",\n",
    "    num_labels=3,\n",
    "    output_attentions=True,\n",
    ")"
   ]
  },
  {
   "cell_type": "code",
   "execution_count": 26,
   "id": "ee2c8590-ad55-4ebb-bb94-6e0a46e0ae7f",
   "metadata": {},
   "outputs": [],
   "source": [
    "lora_model = lora_model.to(\"cuda\")"
   ]
  },
  {
   "cell_type": "code",
   "execution_count": 27,
   "id": "c6632a57-e1f8-4f2a-a5ff-65afab2e9e24",
   "metadata": {},
   "outputs": [],
   "source": [
    "rank = 16\n",
    "alpha = 16\n",
    "\n",
    "for layer in lora_model.mobilebert.encoder.layer:\n",
    "    layer.attention.self.query = LoRALayer(\n",
    "        layer.attention.self.query,\n",
    "        rank=rank,\n",
    "        alpha=alpha,\n",
    "        device=\"cuda\",\n",
    "    )\n",
    "    layer.attention.self.key = LoRALayer(\n",
    "        layer.attention.self.key,\n",
    "        rank=rank,\n",
    "        alpha=alpha,\n",
    "        device=\"cuda\",\n",
    "    )\n",
    "    layer.attention.self.value = LoRALayer(\n",
    "        layer.attention.self.value,\n",
    "        rank=rank,\n",
    "        alpha=alpha,\n",
    "        device=\"cuda\",\n",
    "    )\n",
    "    layer.attention.output.dense = LoRALayer(\n",
    "        layer.attention.output.dense,\n",
    "        rank=rank,\n",
    "        alpha=alpha,\n",
    "        device=\"cuda\",\n",
    "    )"
   ]
  },
  {
   "cell_type": "code",
   "execution_count": 28,
   "id": "78c2cee4-4f2e-42fd-a5a5-ad79ae5b9437",
   "metadata": {},
   "outputs": [
    {
     "data": {
      "text/plain": [
       "<All keys matched successfully>"
      ]
     },
     "execution_count": 28,
     "metadata": {},
     "output_type": "execute_result"
    }
   ],
   "source": [
    "lora_model.load_state_dict(torch.load(\"lora-mnli-r-16.pt\", weights_only=True))"
   ]
  },
  {
   "cell_type": "code",
   "execution_count": 29,
   "id": "42f85c4e-72b8-4702-ad12-ff45ed5eaa31",
   "metadata": {},
   "outputs": [
    {
     "data": {
      "text/plain": [
       "device(type='cuda', index=0)"
      ]
     },
     "execution_count": 29,
     "metadata": {},
     "output_type": "execute_result"
    }
   ],
   "source": [
    "lora_model.device"
   ]
  },
  {
   "cell_type": "code",
   "execution_count": 30,
   "id": "d96516d2-7359-437b-be03-3d08957520fb",
   "metadata": {},
   "outputs": [],
   "source": [
    "val_accuracy = evaluate.load(\"accuracy\")"
   ]
  },
  {
   "cell_type": "code",
   "execution_count": 31,
   "id": "abe08731-f367-4619-9092-1034055d62ad",
   "metadata": {},
   "outputs": [
    {
     "data": {
      "application/vnd.jupyter.widget-view+json": {
       "model_id": "599831c4983c4dd1b3515e7c1a3cd2cf",
       "version_major": 2,
       "version_minor": 0
      },
      "text/plain": [
       "  0%|          | 0/614 [00:00<?, ?it/s]"
      ]
     },
     "metadata": {},
     "output_type": "display_data"
    }
   ],
   "source": [
    "for batch in tqdm(data_loader):\n",
    "    outputs = lora_model(\n",
    "        input_ids=batch[\"input_ids\"].to(\"cuda\"),\n",
    "        token_type_ids=batch[\"token_type_ids\"].to(\"cuda\"),\n",
    "        attention_mask=batch[\"attention_mask\"].to(\"cuda\"),\n",
    "    )\n",
    "    predictions = np.argmax(outputs.logits.softmax(axis=1).detach().cpu().numpy(), axis=1)\n",
    "    labels = batch[\"label\"].numpy()\n",
    "    val_accuracy.add_batch(predictions=predictions, references=labels)"
   ]
  },
  {
   "cell_type": "code",
   "execution_count": 32,
   "id": "cff6e989-db95-4f1d-8c49-01fcf4c3ed30",
   "metadata": {},
   "outputs": [
    {
     "data": {
      "text/plain": [
       "{'accuracy': 0.8138563423331635}"
      ]
     },
     "execution_count": 32,
     "metadata": {},
     "output_type": "execute_result"
    }
   ],
   "source": [
    "val_accuracy.compute()"
   ]
  },
  {
   "cell_type": "code",
   "execution_count": null,
   "id": "56f4cae9-155f-442c-a74b-07fc6842c1e2",
   "metadata": {},
   "outputs": [],
   "source": []
  },
  {
   "cell_type": "code",
   "execution_count": 33,
   "id": "b1f13a69-53ec-4512-b342-e226575f080d",
   "metadata": {},
   "outputs": [],
   "source": [
    "def prepare_attention_batch(batch):\n",
    "    return np.transpose(np.reshape(batch, batch.shape[:-2] + (-1,)), axes=(1, 0, 2, 3))"
   ]
  },
  {
   "cell_type": "code",
   "execution_count": 34,
   "id": "1242075f-dc37-4173-8a72-288444f9e974",
   "metadata": {},
   "outputs": [
    {
     "data": {
      "application/vnd.jupyter.widget-view+json": {
       "model_id": "196dbb12aecd4787b873358be2426f4d",
       "version_major": 2,
       "version_minor": 0
      },
      "text/plain": [
       "  0%|          | 0/614 [00:00<?, ?it/s]"
      ]
     },
     "metadata": {},
     "output_type": "display_data"
    }
   ],
   "source": [
    "cosine_similarities = []\n",
    "for batch in tqdm(data_loader):\n",
    "    test_outputs = test_model(\n",
    "        input_ids=batch[\"input_ids\"].to(\"cuda\"),\n",
    "        token_type_ids=batch[\"token_type_ids\"].to(\"cuda\"),\n",
    "        attention_mask=batch[\"attention_mask\"].to(\"cuda\"),\n",
    "    )\n",
    "    test_attentions = np.stack([a.detach().cpu().numpy() for a in test_outputs.attentions])\n",
    "    lora_outputs = lora_model(\n",
    "        input_ids=batch[\"input_ids\"].to(\"cuda\"),\n",
    "        token_type_ids=batch[\"token_type_ids\"].to(\"cuda\"),\n",
    "        attention_mask=batch[\"attention_mask\"].to(\"cuda\"),\n",
    "    )\n",
    "    lora_attentions = np.stack([a.detach().cpu().numpy() for a in lora_outputs.attentions])\n",
    "    batch_cosine_similarities = nn.functional.cosine_similarity(\n",
    "        torch.tensor(prepare_attention_batch(test_attentions)),\n",
    "        torch.tensor(prepare_attention_batch(lora_attentions)),\n",
    "        dim=-1\n",
    "    ).detach().cpu().numpy()\n",
    "    cosine_similarities.append(batch_cosine_similarities)    "
   ]
  },
  {
   "cell_type": "code",
   "execution_count": null,
   "id": "c9b6ac4c-4bed-41f8-b0e0-ed6e6f1931c0",
   "metadata": {},
   "outputs": [],
   "source": []
  },
  {
   "cell_type": "code",
   "execution_count": 35,
   "id": "d7d8e7ad-b8ec-43b9-9982-113cdddeffa6",
   "metadata": {},
   "outputs": [],
   "source": [
    "avg_cosine_similarities = np.mean(np.concat(cosine_similarities), axis=0)"
   ]
  },
  {
   "cell_type": "code",
   "execution_count": 36,
   "id": "c751dddc-0481-4053-8323-ac6f2131dc57",
   "metadata": {},
   "outputs": [
    {
     "data": {
      "text/plain": [
       "(24, 4)"
      ]
     },
     "execution_count": 36,
     "metadata": {},
     "output_type": "execute_result"
    }
   ],
   "source": [
    "avg_cosine_similarities.shape"
   ]
  },
  {
   "cell_type": "code",
   "execution_count": 37,
   "id": "49881f2a-eb9b-4e48-9c4f-6095e09329b4",
   "metadata": {},
   "outputs": [
    {
     "data": {
      "text/plain": [
       "array([0.9043934 , 0.9773963 , 0.9836378 , 0.87233955], dtype=float32)"
      ]
     },
     "execution_count": 37,
     "metadata": {},
     "output_type": "execute_result"
    }
   ],
   "source": [
    "avg_cosine_similarities[0]"
   ]
  },
  {
   "cell_type": "code",
   "execution_count": null,
   "id": "d453730f-f009-40da-94b0-66d8c7bc5263",
   "metadata": {},
   "outputs": [],
   "source": []
  },
  {
   "cell_type": "code",
   "execution_count": 38,
   "id": "34939bfe-2540-482b-bf2e-57945d548e52",
   "metadata": {},
   "outputs": [],
   "source": [
    "import seaborn as sns"
   ]
  },
  {
   "cell_type": "code",
   "execution_count": 39,
   "id": "72525ab9-aad6-4454-ae6f-d55b1b33e51e",
   "metadata": {},
   "outputs": [
    {
     "data": {
      "text/plain": [
       "<Axes: >"
      ]
     },
     "execution_count": 39,
     "metadata": {},
     "output_type": "execute_result"
    },
    {
     "data": {
      "image/png": "[encoded data removed]",
      "text/plain": [
       "<Figure size 640x480 with 2 Axes>"
      ]
     },
     "metadata": {},
     "output_type": "display_data"
    }
   ],
   "source": [
    "sns.heatmap(1 - avg_cosine_similarities)"
   ]
  },
  {
   "cell_type": "code",
   "execution_count": null,
   "id": "34a8b0a8-950a-4b28-84eb-48f9886e169d",
   "metadata": {},
   "outputs": [],
   "source": []
  }
 ],
 "metadata": {
  "kernelspec": {
   "display_name": "Python 3 (ipykernel)",
   "language": "python",
   "name": "python3"
  },
  "language_info": {
   "codemirror_mode": {
    "name": "ipython",
    "version": 3
   },
   "file_extension": ".py",
   "mimetype": "text/x-python",
   "name": "python",
   "nbconvert_exporter": "python",
   "pygments_lexer": "ipython3",
   "version": "3.10.15"
  }
 },
 "nbformat": 4,
 "nbformat_minor": 5
}
