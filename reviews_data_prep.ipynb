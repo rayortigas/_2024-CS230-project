{
 "cells": [
  {
   "cell_type": "code",
   "execution_count": 1,
   "id": "8af61cdc-b2bd-4b34-a1c3-fa2e5b136f19",
   "metadata": {},
   "outputs": [],
   "source": [
    "import pandas as pd"
   ]
  },
  {
   "cell_type": "code",
   "execution_count": 2,
   "id": "26e83506-ccc8-4ac2-87c7-b049141db13a",
   "metadata": {},
   "outputs": [],
   "source": [
    "# https://jmcauley.ucsd.edu/data/amazon/links.html"
   ]
  },
  {
   "cell_type": "code",
   "execution_count": 3,
   "id": "af06d5f6-1fa9-471d-a0fc-7fe407e046b2",
   "metadata": {},
   "outputs": [],
   "source": [
    "df = pd.read_json(\"reviews-text/reviews_Movies_and_TV_5.json\", lines=True)"
   ]
  },
  {
   "cell_type": "code",
   "execution_count": 4,
   "id": "199c3806-0246-47b2-b934-709082487f45",
   "metadata": {},
   "outputs": [
    {
     "data": {
      "text/plain": [
       "reviewerID        object\n",
       "asin              object\n",
       "reviewerName      object\n",
       "helpful           object\n",
       "reviewText        object\n",
       "overall            int64\n",
       "summary           object\n",
       "unixReviewTime     int64\n",
       "reviewTime        object\n",
       "dtype: object"
      ]
     },
     "execution_count": 4,
     "metadata": {},
     "output_type": "execute_result"
    }
   ],
   "source": [
    "df.dtypes"
   ]
  },
  {
   "cell_type": "code",
   "execution_count": 8,
   "id": "16db84bc-5ea8-4a63-b383-2c5d140728bd",
   "metadata": {},
   "outputs": [],
   "source": [
    "with open(\"reviews-text/reviews-unlabeled.txt\", \"w\", encoding=\"utf-8\") as f:\n",
    "    for review in df.reviewText:\n",
    "        f.write(review)\n",
    "        f.write(\"\\n\")"
   ]
  },
  {
   "cell_type": "code",
   "execution_count": 12,
   "id": "e077d432-5bba-41ea-8115-918703649a19",
   "metadata": {},
   "outputs": [],
   "source": [
    "df[[\"reviewText\"]].to_parquet(\"reviews-text/reviews-unlabeled.parquet.gz\", compression=\"gzip\")"
   ]
  },
  {
   "cell_type": "code",
   "execution_count": 6,
   "id": "b46425b2",
   "metadata": {},
   "outputs": [],
   "source": [
    "df[[\"reviewText\"]].to_parquet(\"reviews-text/reviews-unlabeled.parquet.snappy\", compression=\"snappy\")"
   ]
  },
  {
   "cell_type": "code",
   "execution_count": null,
   "id": "e413e0d0",
   "metadata": {},
   "outputs": [],
   "source": []
  }
 ],
 "metadata": {
  "kernelspec": {
   "display_name": "cs230-proj",
   "language": "python",
   "name": "python3"
  },
  "language_info": {
   "codemirror_mode": {
    "name": "ipython",
    "version": 3
   },
   "file_extension": ".py",
   "mimetype": "text/x-python",
   "name": "python",
   "nbconvert_exporter": "python",
   "pygments_lexer": "ipython3",
   "version": "3.10.15"
  }
 },
 "nbformat": 4,
 "nbformat_minor": 5
}
